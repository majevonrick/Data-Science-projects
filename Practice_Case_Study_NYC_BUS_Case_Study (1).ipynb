{
 "cells": [
  {
   "cell_type": "markdown",
   "metadata": {
    "id": "fOe2N74aF4az"
   },
   "source": [
    "# **Practice Project - Predictive Analytics: New York City Bus Ride Duration Prediction**\n",
    "-----------------\n",
    "## **Objective**\n",
    "-----------------\n",
    "\n",
    "- To Build a predictive model, for predicting the duration for the bus ride. \n",
    "- Use Automated feature engineering to create new features\n",
    "\n",
    "-----------------\n",
    "## **Dataset**\n",
    "-----------------\n",
    "\n",
    "The ``trips`` table has the following fields\n",
    "* ``id`` which uniquely identifies the trip\n",
    "* ``Transport_Service`` is the transport company - in our case study we have data from 4 different transport companies\n",
    "* ``pickup_datetime`` the time stamp for pickup\n",
    "* ``dropoff_datetime`` the time stamp for drop-off\n",
    "* ``passenger_count`` the number of passengers for the trip\n",
    "* ``trip_distance`` total distance of the trip in miles \n",
    "* ``pickup_longitude`` the longitude for pickup\n",
    "* ``pickup_latitude`` the latitude for pickup\n",
    "* ``dropoff_longitude``the longitude of dropoff \n",
    "* ``dropoff_latitude`` the latitude of dropoff\n",
    "* ``payment_type`` a numeric code signifying how the passenger paid for the trip. 1= Credit card 2= Cash 3= Unknown\n",
    "* ``trip_duration`` this is the duration we would like to predict using other fields \n",
    "* ``pickup_neighborhood`` a one or two letter id of the neighborhod where the trip started\n",
    "* ``dropoff_neighborhood`` a one or two letter id of the neighborhod where the trip ended\n",
    "\n",
    "\n",
    "#### **We will do the following steps:**\n",
    "  * Install the dependencies\n",
    "  * Load the data as pandas dataframe\n",
    "  * Perform EDA on the dataset\n",
    "  * Build features with Deep Feature Synthesis using the [featuretools](https://featuretools.com) package. We will start with simple features and incrementally improve the feature definitions and examine the accuracy of the system"
   ]
  },
  {
   "cell_type": "markdown",
   "metadata": {
    "id": "24thLZQM2nL5"
   },
   "source": [
    "****Uncomment the following code and run it to install the featuretools library****"
   ]
  },
  {
   "cell_type": "code",
   "execution_count": null,
   "metadata": {
    "id": "o7_IbLPwF4a2"
   },
   "outputs": [],
   "source": [
    "# Uncomment the code given below, and run the line of code to install featuretools library\n",
    "\n",
    "#!pip install featuretools==0.27.0"
   ]
  },
  {
   "cell_type": "markdown",
   "metadata": {
    "id": "6dlJbpJPF4a3"
   },
   "source": [
    "**Note:** If **!pip install featuretools** doesn't work, please install using the **anaconda prompt** by typing the following command in anaconda prompt\n",
    "> `conda install -c conda-forge featuretools==0.27.0`"
   ]
  },
  {
   "cell_type": "markdown",
   "metadata": {
    "id": "4HxZxr_cF4a4"
   },
   "source": [
    "## **Import the necessary libraries**"
   ]
  },
  {
   "cell_type": "code",
   "execution_count": null,
   "metadata": {
    "ExecuteTime": {
     "end_time": "2021-08-13T12:37:02.352935Z",
     "start_time": "2021-08-13T12:37:02.261186Z"
    },
    "colab": {
     "base_uri": "https://localhost:8080/"
    },
    "id": "rj9grLolCakF",
    "outputId": "bd98f682-0cd3-412d-fbb7-5cea070daba3"
   },
   "outputs": [
    {
     "name": "stdout",
     "output_type": "stream",
     "text": [
      "0.27.0\n"
     ]
    }
   ],
   "source": [
    "# Basic libraries of python for numeric and dataframe computations\n",
    "import numpy as np                              \n",
    "import pandas as pd\n",
    "\n",
    "# Basic library for data visualization\n",
    "import matplotlib.pyplot as plt     \n",
    "\n",
    "# Slightly advanced library for data visualization            \n",
    "import seaborn as sns                          \n",
    "\n",
    "# Featauretools for feature engineering\n",
    "import featuretools as ft\n",
    "\n",
    "from sklearn.model_selection import train_test_split\n",
    "from sklearn.impute import SimpleImputer\n",
    "\n",
    "# Importing gradient boosting regressor, to make prediction\n",
    "from sklearn.metrics import r2_score\n",
    "from sklearn.linear_model import LinearRegression\n",
    "from sklearn.ensemble import RandomForestRegressor\n",
    "from sklearn.tree import DecisionTreeRegressor\n",
    "\n",
    "# Importing primitives\n",
    "from featuretools.primitives import (Minute, Hour, Day, Month,\n",
    "                                     Weekday, IsWeekend, Count, Sum, Mean, Median, Std, Min, Max)\n",
    "\n",
    "# Used to ignore the warning given as output of the code\n",
    "import warnings\n",
    "warnings.filterwarnings(\"ignore\")\n",
    "\n",
    "print(ft.__version__)\n",
    "%load_ext autoreload\n",
    "%autoreload 2"
   ]
  },
  {
   "cell_type": "code",
   "execution_count": null,
   "metadata": {
    "id": "qfSleNSWF4a5"
   },
   "outputs": [],
   "source": [
    "# To preview first five rows. \n",
    "def preview(df, n=5):\n",
    "    \"\"\"return n rows that have fewest number of nulls\"\"\"\n",
    "    order = df.isnull().sum(axis=1).sort_values().head(n).index\n",
    "    return df.loc[order]\n",
    "\n",
    "# To see the feature importance of variables in the final model\n",
    "def feature_importances(model, feature_names, n=10):\n",
    "    importances = model.feature_importances_\n",
    "    zipped = sorted(zip(feature_names, importances), key=lambda x: -x[1])\n",
    "    for i, f in enumerate(zipped[:n]):\n",
    "        print(\"%d: Feature: %s, %.3f\" % (i+1, f[0], f[1]))\n",
    "\n",
    "# To generate train and test dataset\n",
    "def get_train_test_fm(feature_matrix, percentage):\n",
    "    nrows = feature_matrix.shape[0]\n",
    "    head = int(nrows * percentage)\n",
    "    tail = nrows-head\n",
    "    X_train = feature_matrix.head(head)\n",
    "    y_train = X_train['trip_duration']\n",
    "    X_train = X_train.drop(['trip_duration'], axis=1)\n",
    "    imp = SimpleImputer()\n",
    "    X_train = imp.fit_transform(X_train)\n",
    "    X_test = feature_matrix.tail(tail)\n",
    "    y_test = X_test['trip_duration']\n",
    "    X_test = X_test.drop(['trip_duration'], axis=1)\n",
    "    X_test = imp.transform(X_test)\n",
    "\n",
    "    return (X_train, y_train, X_test,y_test)\n",
    "\n",
    "def column_string(n):\n",
    "    string = \"\"\n",
    "    while n > 0:\n",
    "        n, remainder = divmod(n - 1, 26)\n",
    "        string = chr(65 + remainder) + string\n",
    "    return string\n",
    "\n",
    "# To compute features using automated feature engineering. \n",
    "def compute_features(features, cutoff_time):\n",
    "    # Shuffle so we don't see encoded features in the front or backs\n",
    "\n",
    "    np.random.shuffle(features)\n",
    "    feature_matrix = ft.calculate_feature_matrix(features,\n",
    "                                                 cutoff_time=cutoff_time,\n",
    "                                                 approximate='36d',\n",
    "                                                 verbose=True)\n",
    "    print(\"Finishing computing...\")\n",
    "    feature_matrix, features = ft.encode_features(feature_matrix, features,\n",
    "                                                  to_encode=[\"pickup_neighborhood\", \"dropoff_neighborhood\"],\n",
    "                                                  include_unknown=False)\n",
    "    return feature_matrix"
   ]
  },
  {
   "cell_type": "markdown",
   "metadata": {
    "id": "4a4QTScIvnMy"
   },
   "source": [
    "### **Load the datasets**"
   ]
  },
  {
   "cell_type": "code",
   "execution_count": null,
   "metadata": {
    "id": "3uFREyYDvnMz"
   },
   "outputs": [],
   "source": [
    "# If you are using Google Colab then while reading the files using 'pd.read_csv()', replace the location of CSV files with the exact location of the files in your drive folder. \n",
    "trips = pd.read_csv('BUS_SERVICE.csv',\n",
    "                        parse_dates=[\"pickup_datetime\",\"dropoff_datetime\"],\n",
    "                        dtype={'vendor_id':\"category\",'passenger_count':'int64'},\n",
    "                        encoding='utf-8')\n",
    "trips[\"payment_type\"] = trips[\"payment_type\"].apply(str)\n",
    "trips = trips.dropna(axis=0, how='any', subset=['trip_duration'])\n",
    "\n",
    "pickup_neighborhoods = pd.read_csv(\"pickup_neighborhoods.csv\", encoding='utf-8')\n",
    "dropoff_neighborhoods = pd.read_csv(\"dropoff_neighborhoods.csv\", encoding='utf-8')\n",
    " "
   ]
  },
  {
   "cell_type": "markdown",
   "metadata": {
    "id": "mrf5HKhBF4a5"
   },
   "source": [
    "### **View the Datasets**"
   ]
  },
  {
   "cell_type": "code",
   "execution_count": null,
   "metadata": {
    "ExecuteTime": {
     "end_time": "2021-07-15T12:40:47.210990Z",
     "start_time": "2021-07-15T12:40:41.965643Z"
    },
    "colab": {
     "base_uri": "https://localhost:8080/",
     "height": 557
    },
    "id": "UjG7KOXvF4a6",
    "outputId": "c72f7655-48b2-4677-8753-601ec5c77891",
    "scrolled": false
   },
   "outputs": [
    {
     "data": {
      "text/html": [
       "<div>\n",
       "<style scoped>\n",
       "    .dataframe tbody tr th:only-of-type {\n",
       "        vertical-align: middle;\n",
       "    }\n",
       "\n",
       "    .dataframe tbody tr th {\n",
       "        vertical-align: top;\n",
       "    }\n",
       "\n",
       "    .dataframe thead th {\n",
       "        text-align: right;\n",
       "    }\n",
       "</style>\n",
       "<table border=\"1\" class=\"dataframe\">\n",
       "  <thead>\n",
       "    <tr style=\"text-align: right;\">\n",
       "      <th></th>\n",
       "      <th>id</th>\n",
       "      <th>Transport_service</th>\n",
       "      <th>pickup_datetime</th>\n",
       "      <th>dropoff_datetime</th>\n",
       "      <th>passenger_count</th>\n",
       "      <th>trip_distance</th>\n",
       "      <th>pickup_longitude</th>\n",
       "      <th>pickup_latitude</th>\n",
       "      <th>dropoff_longitude</th>\n",
       "      <th>dropoff_latitude</th>\n",
       "      <th>payment_type</th>\n",
       "      <th>trip_duration</th>\n",
       "      <th>pickup_neighborhood</th>\n",
       "      <th>dropoff_neighborhood</th>\n",
       "    </tr>\n",
       "  </thead>\n",
       "  <tbody>\n",
       "    <tr>\n",
       "      <th>0</th>\n",
       "      <td>0</td>\n",
       "      <td>3</td>\n",
       "      <td>2019-01-01 00:00:00</td>\n",
       "      <td>2019-01-01 00:06:00</td>\n",
       "      <td>1</td>\n",
       "      <td>1.32</td>\n",
       "      <td>-73.961258</td>\n",
       "      <td>40.796200</td>\n",
       "      <td>-73.950050</td>\n",
       "      <td>40.787312</td>\n",
       "      <td>3</td>\n",
       "      <td>387</td>\n",
       "      <td>AH</td>\n",
       "      <td>C</td>\n",
       "    </tr>\n",
       "    <tr>\n",
       "      <th>997</th>\n",
       "      <td>997</td>\n",
       "      <td>4</td>\n",
       "      <td>2019-01-01 02:38:00</td>\n",
       "      <td>2019-01-01 02:52:00</td>\n",
       "      <td>3</td>\n",
       "      <td>5.57</td>\n",
       "      <td>-73.952347</td>\n",
       "      <td>40.824081</td>\n",
       "      <td>-73.996429</td>\n",
       "      <td>40.759918</td>\n",
       "      <td>1</td>\n",
       "      <td>828</td>\n",
       "      <td>AL</td>\n",
       "      <td>P</td>\n",
       "    </tr>\n",
       "    <tr>\n",
       "      <th>996</th>\n",
       "      <td>996</td>\n",
       "      <td>4</td>\n",
       "      <td>2019-01-01 02:38:00</td>\n",
       "      <td>2019-01-01 02:41:00</td>\n",
       "      <td>2</td>\n",
       "      <td>0.20</td>\n",
       "      <td>-73.980171</td>\n",
       "      <td>40.745308</td>\n",
       "      <td>-73.984192</td>\n",
       "      <td>40.745892</td>\n",
       "      <td>2</td>\n",
       "      <td>184</td>\n",
       "      <td>Y</td>\n",
       "      <td>AO</td>\n",
       "    </tr>\n",
       "    <tr>\n",
       "      <th>995</th>\n",
       "      <td>995</td>\n",
       "      <td>3</td>\n",
       "      <td>2019-01-01 02:38:00</td>\n",
       "      <td>2019-01-01 02:52:00</td>\n",
       "      <td>1</td>\n",
       "      <td>2.83</td>\n",
       "      <td>-73.991966</td>\n",
       "      <td>40.759331</td>\n",
       "      <td>-74.004707</td>\n",
       "      <td>40.724442</td>\n",
       "      <td>2</td>\n",
       "      <td>815</td>\n",
       "      <td>P</td>\n",
       "      <td>AB</td>\n",
       "    </tr>\n",
       "    <tr>\n",
       "      <th>994</th>\n",
       "      <td>994</td>\n",
       "      <td>2</td>\n",
       "      <td>2019-01-01 02:38:00</td>\n",
       "      <td>2019-01-01 02:49:00</td>\n",
       "      <td>2</td>\n",
       "      <td>2.48</td>\n",
       "      <td>-73.961441</td>\n",
       "      <td>40.694302</td>\n",
       "      <td>-73.959938</td>\n",
       "      <td>40.662540</td>\n",
       "      <td>1</td>\n",
       "      <td>655</td>\n",
       "      <td>V</td>\n",
       "      <td>AF</td>\n",
       "    </tr>\n",
       "    <tr>\n",
       "      <th>993</th>\n",
       "      <td>993</td>\n",
       "      <td>3</td>\n",
       "      <td>2019-01-01 02:38:00</td>\n",
       "      <td>2019-01-01 02:40:00</td>\n",
       "      <td>4</td>\n",
       "      <td>0.72</td>\n",
       "      <td>-73.974014</td>\n",
       "      <td>40.782967</td>\n",
       "      <td>-73.969894</td>\n",
       "      <td>40.788155</td>\n",
       "      <td>2</td>\n",
       "      <td>162</td>\n",
       "      <td>I</td>\n",
       "      <td>U</td>\n",
       "    </tr>\n",
       "    <tr>\n",
       "      <th>992</th>\n",
       "      <td>992</td>\n",
       "      <td>2</td>\n",
       "      <td>2019-01-01 02:38:00</td>\n",
       "      <td>2019-01-01 03:13:00</td>\n",
       "      <td>3</td>\n",
       "      <td>10.50</td>\n",
       "      <td>-73.956985</td>\n",
       "      <td>40.766346</td>\n",
       "      <td>-73.966179</td>\n",
       "      <td>40.674366</td>\n",
       "      <td>3</td>\n",
       "      <td>2131</td>\n",
       "      <td>K</td>\n",
       "      <td>V</td>\n",
       "    </tr>\n",
       "    <tr>\n",
       "      <th>991</th>\n",
       "      <td>991</td>\n",
       "      <td>4</td>\n",
       "      <td>2019-01-01 02:38:00</td>\n",
       "      <td>2019-01-01 02:52:00</td>\n",
       "      <td>3</td>\n",
       "      <td>6.80</td>\n",
       "      <td>-73.911682</td>\n",
       "      <td>40.775295</td>\n",
       "      <td>-73.903908</td>\n",
       "      <td>40.817696</td>\n",
       "      <td>2</td>\n",
       "      <td>898</td>\n",
       "      <td>W</td>\n",
       "      <td>S</td>\n",
       "    </tr>\n",
       "    <tr>\n",
       "      <th>990</th>\n",
       "      <td>990</td>\n",
       "      <td>1</td>\n",
       "      <td>2019-01-01 02:38:00</td>\n",
       "      <td>2019-01-01 03:22:00</td>\n",
       "      <td>1</td>\n",
       "      <td>13.80</td>\n",
       "      <td>-73.976143</td>\n",
       "      <td>40.775990</td>\n",
       "      <td>-73.940956</td>\n",
       "      <td>40.676426</td>\n",
       "      <td>2</td>\n",
       "      <td>2693</td>\n",
       "      <td>AV</td>\n",
       "      <td>AW</td>\n",
       "    </tr>\n",
       "    <tr>\n",
       "      <th>989</th>\n",
       "      <td>989</td>\n",
       "      <td>2</td>\n",
       "      <td>2019-01-01 02:38:00</td>\n",
       "      <td>2019-01-01 03:08:00</td>\n",
       "      <td>1</td>\n",
       "      <td>9.00</td>\n",
       "      <td>-73.981331</td>\n",
       "      <td>40.780663</td>\n",
       "      <td>-73.848824</td>\n",
       "      <td>40.722755</td>\n",
       "      <td>3</td>\n",
       "      <td>1841</td>\n",
       "      <td>AV</td>\n",
       "      <td>B</td>\n",
       "    </tr>\n",
       "  </tbody>\n",
       "</table>\n",
       "</div>"
      ],
      "text/plain": [
       "      id  Transport_service     pickup_datetime    dropoff_datetime  \\\n",
       "0      0                  3 2019-01-01 00:00:00 2019-01-01 00:06:00   \n",
       "997  997                  4 2019-01-01 02:38:00 2019-01-01 02:52:00   \n",
       "996  996                  4 2019-01-01 02:38:00 2019-01-01 02:41:00   \n",
       "995  995                  3 2019-01-01 02:38:00 2019-01-01 02:52:00   \n",
       "994  994                  2 2019-01-01 02:38:00 2019-01-01 02:49:00   \n",
       "993  993                  3 2019-01-01 02:38:00 2019-01-01 02:40:00   \n",
       "992  992                  2 2019-01-01 02:38:00 2019-01-01 03:13:00   \n",
       "991  991                  4 2019-01-01 02:38:00 2019-01-01 02:52:00   \n",
       "990  990                  1 2019-01-01 02:38:00 2019-01-01 03:22:00   \n",
       "989  989                  2 2019-01-01 02:38:00 2019-01-01 03:08:00   \n",
       "\n",
       "     passenger_count  trip_distance  pickup_longitude  pickup_latitude  \\\n",
       "0                  1           1.32        -73.961258        40.796200   \n",
       "997                3           5.57        -73.952347        40.824081   \n",
       "996                2           0.20        -73.980171        40.745308   \n",
       "995                1           2.83        -73.991966        40.759331   \n",
       "994                2           2.48        -73.961441        40.694302   \n",
       "993                4           0.72        -73.974014        40.782967   \n",
       "992                3          10.50        -73.956985        40.766346   \n",
       "991                3           6.80        -73.911682        40.775295   \n",
       "990                1          13.80        -73.976143        40.775990   \n",
       "989                1           9.00        -73.981331        40.780663   \n",
       "\n",
       "     dropoff_longitude  dropoff_latitude payment_type  trip_duration  \\\n",
       "0           -73.950050         40.787312            3            387   \n",
       "997         -73.996429         40.759918            1            828   \n",
       "996         -73.984192         40.745892            2            184   \n",
       "995         -74.004707         40.724442            2            815   \n",
       "994         -73.959938         40.662540            1            655   \n",
       "993         -73.969894         40.788155            2            162   \n",
       "992         -73.966179         40.674366            3           2131   \n",
       "991         -73.903908         40.817696            2            898   \n",
       "990         -73.940956         40.676426            2           2693   \n",
       "989         -73.848824         40.722755            3           1841   \n",
       "\n",
       "    pickup_neighborhood dropoff_neighborhood  \n",
       "0                    AH                    C  \n",
       "997                  AL                    P  \n",
       "996                   Y                   AO  \n",
       "995                   P                   AB  \n",
       "994                   V                   AF  \n",
       "993                   I                    U  \n",
       "992                   K                    V  \n",
       "991                   W                    S  \n",
       "990                  AV                   AW  \n",
       "989                  AV                    B  "
      ]
     },
     "execution_count": 5,
     "metadata": {},
     "output_type": "execute_result"
    }
   ],
   "source": [
    "preview(trips, 10)"
   ]
  },
  {
   "cell_type": "code",
   "execution_count": null,
   "metadata": {
    "id": "rHQyRSkVF4a7"
   },
   "outputs": [],
   "source": [
    "# Drop the rows where at least one element is missing. \n",
    "trips=trips.dropna()"
   ]
  },
  {
   "cell_type": "markdown",
   "metadata": {
    "id": "SPOTqu0_vnM1"
   },
   "source": [
    "For the features used in the model the \"**dropoff_datetime**\" needs to be removed as this value would not be known for real-time prediction and you can basically take the difference between the pickup and dropoff time to find the duration.So, this will restrict our model to be **robust** and **reliable**. So, dropping this feature will help us to avoid **data leakage**.\n",
    "\n",
    "Data leakage in machine learning occurs when the data used to train a machine learning algorithm contains information that the model is attempting to predict, resulting in unreliable and poor prediction outcomes after model deployment."
   ]
  },
  {
   "cell_type": "code",
   "execution_count": null,
   "metadata": {
    "id": "-BA1K0nTvnM1"
   },
   "outputs": [],
   "source": [
    "trips. drop(\"dropoff_datetime\", axis=1, inplace=True) "
   ]
  },
  {
   "cell_type": "markdown",
   "metadata": {
    "id": "_YBezU14F4a6"
   },
   "source": [
    "### **Let's check the first five rows of the data**"
   ]
  },
  {
   "cell_type": "code",
   "execution_count": null,
   "metadata": {
    "colab": {
     "base_uri": "https://localhost:8080/",
     "height": 313
    },
    "id": "i_-4FhrGF4a7",
    "outputId": "91f31a9b-6fc4-4afb-afb9-697bec7398b4",
    "scrolled": true
   },
   "outputs": [
    {
     "data": {
      "text/html": [
       "<div>\n",
       "<style scoped>\n",
       "    .dataframe tbody tr th:only-of-type {\n",
       "        vertical-align: middle;\n",
       "    }\n",
       "\n",
       "    .dataframe tbody tr th {\n",
       "        vertical-align: top;\n",
       "    }\n",
       "\n",
       "    .dataframe thead th {\n",
       "        text-align: right;\n",
       "    }\n",
       "</style>\n",
       "<table border=\"1\" class=\"dataframe\">\n",
       "  <thead>\n",
       "    <tr style=\"text-align: right;\">\n",
       "      <th></th>\n",
       "      <th>id</th>\n",
       "      <th>Transport_service</th>\n",
       "      <th>pickup_datetime</th>\n",
       "      <th>passenger_count</th>\n",
       "      <th>trip_distance</th>\n",
       "      <th>pickup_longitude</th>\n",
       "      <th>pickup_latitude</th>\n",
       "      <th>dropoff_longitude</th>\n",
       "      <th>dropoff_latitude</th>\n",
       "      <th>payment_type</th>\n",
       "      <th>trip_duration</th>\n",
       "      <th>pickup_neighborhood</th>\n",
       "      <th>dropoff_neighborhood</th>\n",
       "    </tr>\n",
       "  </thead>\n",
       "  <tbody>\n",
       "    <tr>\n",
       "      <th>0</th>\n",
       "      <td>0</td>\n",
       "      <td>3</td>\n",
       "      <td>2019-01-01 00:00:00</td>\n",
       "      <td>1</td>\n",
       "      <td>1.32</td>\n",
       "      <td>-73.961258</td>\n",
       "      <td>40.796200</td>\n",
       "      <td>-73.950050</td>\n",
       "      <td>40.787312</td>\n",
       "      <td>3</td>\n",
       "      <td>387</td>\n",
       "      <td>AH</td>\n",
       "      <td>C</td>\n",
       "    </tr>\n",
       "    <tr>\n",
       "      <th>1</th>\n",
       "      <td>1</td>\n",
       "      <td>1</td>\n",
       "      <td>2019-01-01 00:01:00</td>\n",
       "      <td>3</td>\n",
       "      <td>13.70</td>\n",
       "      <td>-73.956169</td>\n",
       "      <td>40.707756</td>\n",
       "      <td>-73.939949</td>\n",
       "      <td>40.839558</td>\n",
       "      <td>3</td>\n",
       "      <td>1568</td>\n",
       "      <td>Z</td>\n",
       "      <td>S</td>\n",
       "    </tr>\n",
       "    <tr>\n",
       "      <th>2</th>\n",
       "      <td>2</td>\n",
       "      <td>4</td>\n",
       "      <td>2019-01-01 00:01:00</td>\n",
       "      <td>1</td>\n",
       "      <td>5.30</td>\n",
       "      <td>-73.993103</td>\n",
       "      <td>40.752632</td>\n",
       "      <td>-73.953903</td>\n",
       "      <td>40.816540</td>\n",
       "      <td>1</td>\n",
       "      <td>1219</td>\n",
       "      <td>D</td>\n",
       "      <td>AL</td>\n",
       "    </tr>\n",
       "    <tr>\n",
       "      <th>3</th>\n",
       "      <td>3</td>\n",
       "      <td>2</td>\n",
       "      <td>2019-01-01 00:01:00</td>\n",
       "      <td>2</td>\n",
       "      <td>7.19</td>\n",
       "      <td>-73.983009</td>\n",
       "      <td>40.731419</td>\n",
       "      <td>-73.930969</td>\n",
       "      <td>40.808460</td>\n",
       "      <td>2</td>\n",
       "      <td>873</td>\n",
       "      <td>AT</td>\n",
       "      <td>J</td>\n",
       "    </tr>\n",
       "    <tr>\n",
       "      <th>4</th>\n",
       "      <td>4</td>\n",
       "      <td>1</td>\n",
       "      <td>2019-01-01 00:02:00</td>\n",
       "      <td>2</td>\n",
       "      <td>2.90</td>\n",
       "      <td>-74.004631</td>\n",
       "      <td>40.747234</td>\n",
       "      <td>-73.976395</td>\n",
       "      <td>40.777237</td>\n",
       "      <td>1</td>\n",
       "      <td>1091</td>\n",
       "      <td>AG</td>\n",
       "      <td>AV</td>\n",
       "    </tr>\n",
       "  </tbody>\n",
       "</table>\n",
       "</div>"
      ],
      "text/plain": [
       "   id  Transport_service     pickup_datetime  passenger_count  trip_distance  \\\n",
       "0   0                  3 2019-01-01 00:00:00                1           1.32   \n",
       "1   1                  1 2019-01-01 00:01:00                3          13.70   \n",
       "2   2                  4 2019-01-01 00:01:00                1           5.30   \n",
       "3   3                  2 2019-01-01 00:01:00                2           7.19   \n",
       "4   4                  1 2019-01-01 00:02:00                2           2.90   \n",
       "\n",
       "   pickup_longitude  pickup_latitude  dropoff_longitude  dropoff_latitude  \\\n",
       "0        -73.961258        40.796200         -73.950050         40.787312   \n",
       "1        -73.956169        40.707756         -73.939949         40.839558   \n",
       "2        -73.993103        40.752632         -73.953903         40.816540   \n",
       "3        -73.983009        40.731419         -73.930969         40.808460   \n",
       "4        -74.004631        40.747234         -73.976395         40.777237   \n",
       "\n",
       "  payment_type  trip_duration pickup_neighborhood dropoff_neighborhood  \n",
       "0            3            387                  AH                    C  \n",
       "1            3           1568                   Z                    S  \n",
       "2            1           1219                   D                   AL  \n",
       "3            2            873                  AT                    J  \n",
       "4            1           1091                  AG                   AV  "
      ]
     },
     "execution_count": 8,
     "metadata": {},
     "output_type": "execute_result"
    }
   ],
   "source": [
    "trips.head()"
   ]
  },
  {
   "cell_type": "markdown",
   "metadata": {
    "id": "PQDlRecmF4a7"
   },
   "source": [
    "Let's check the **info** of the data"
   ]
  },
  {
   "cell_type": "code",
   "execution_count": null,
   "metadata": {
    "colab": {
     "base_uri": "https://localhost:8080/"
    },
    "id": "gZH_IuLOF4a7",
    "outputId": "a764d00d-ee77-488e-cd63-3536221512f7"
   },
   "outputs": [
    {
     "name": "stdout",
     "output_type": "stream",
     "text": [
      "<class 'pandas.core.frame.DataFrame'>\n",
      "Int64Index: 1452 entries, 0 to 1499\n",
      "Data columns (total 13 columns):\n",
      " #   Column                Non-Null Count  Dtype         \n",
      "---  ------                --------------  -----         \n",
      " 0   id                    1452 non-null   int64         \n",
      " 1   Transport_service     1452 non-null   int64         \n",
      " 2   pickup_datetime       1452 non-null   datetime64[ns]\n",
      " 3   passenger_count       1452 non-null   int64         \n",
      " 4   trip_distance         1452 non-null   float64       \n",
      " 5   pickup_longitude      1452 non-null   float64       \n",
      " 6   pickup_latitude       1452 non-null   float64       \n",
      " 7   dropoff_longitude     1452 non-null   float64       \n",
      " 8   dropoff_latitude      1452 non-null   float64       \n",
      " 9   payment_type          1452 non-null   object        \n",
      " 10  trip_duration         1452 non-null   int64         \n",
      " 11  pickup_neighborhood   1452 non-null   object        \n",
      " 12  dropoff_neighborhood  1452 non-null   object        \n",
      "dtypes: datetime64[ns](1), float64(5), int64(4), object(3)\n",
      "memory usage: 158.8+ KB\n"
     ]
    }
   ],
   "source": [
    "# Checking the info of the dataset\n",
    "trips.info()"
   ]
  },
  {
   "cell_type": "markdown",
   "metadata": {
    "id": "dZWZNdJ8F4a8"
   },
   "source": [
    "- There are 1452 non null values in the dataset."
   ]
  },
  {
   "cell_type": "markdown",
   "metadata": {
    "id": "v8wxrQJAF4a8"
   },
   "source": [
    "### **Check the number of unique values in the dataset.**"
   ]
  },
  {
   "cell_type": "code",
   "execution_count": null,
   "metadata": {
    "colab": {
     "base_uri": "https://localhost:8080/"
    },
    "id": "wdR6mlThF4a8",
    "outputId": "d893d8f3-a726-4135-b056-d537afc38948"
   },
   "outputs": [
    {
     "data": {
      "text/plain": [
       "id                      1452\n",
       "Transport_service          4\n",
       "pickup_datetime          259\n",
       "passenger_count            4\n",
       "trip_distance            531\n",
       "pickup_longitude        1338\n",
       "pickup_latitude         1418\n",
       "dropoff_longitude       1331\n",
       "dropoff_latitude        1416\n",
       "payment_type               3\n",
       "trip_duration            969\n",
       "pickup_neighborhood       47\n",
       "dropoff_neighborhood      49\n",
       "dtype: int64"
      ]
     },
     "execution_count": 10,
     "metadata": {},
     "output_type": "execute_result"
    }
   ],
   "source": [
    "# Check the uniques values in each columns\n",
    "trips.nunique()"
   ]
  },
  {
   "cell_type": "markdown",
   "metadata": {
    "id": "VvJbhVJgF4a8"
   },
   "source": [
    "- Transport_service has only 4 unique values, implies there are only 4 transport service companies.\n",
    "- Passenger count has 4 unique values and payment type have 3. \n",
    "- The dataset contains 49 distinct dropoff neighbourhoods and 47 distinct pickup neighbourhoods."
   ]
  },
  {
   "cell_type": "markdown",
   "metadata": {
    "id": "3zePEWGMF4a8"
   },
   "source": [
    "### **Question 1 : Check summary statistics of the dataset (1 Mark)**"
   ]
  },
  {
   "cell_type": "code",
   "execution_count": null,
   "metadata": {
    "colab": {
     "base_uri": "https://localhost:8080/",
     "height": 332
    },
    "id": "oKlJMKhhF4a9",
    "outputId": "db28287f-a5b7-4939-8dea-8d7ca14fae19"
   },
   "outputs": [
    {
     "data": {
      "text/html": [
       "<div>\n",
       "<style scoped>\n",
       "    .dataframe tbody tr th:only-of-type {\n",
       "        vertical-align: middle;\n",
       "    }\n",
       "\n",
       "    .dataframe tbody tr th {\n",
       "        vertical-align: top;\n",
       "    }\n",
       "\n",
       "    .dataframe thead th {\n",
       "        text-align: right;\n",
       "    }\n",
       "</style>\n",
       "<table border=\"1\" class=\"dataframe\">\n",
       "  <thead>\n",
       "    <tr style=\"text-align: right;\">\n",
       "      <th></th>\n",
       "      <th>count</th>\n",
       "      <th>mean</th>\n",
       "      <th>std</th>\n",
       "      <th>min</th>\n",
       "      <th>25%</th>\n",
       "      <th>50%</th>\n",
       "      <th>75%</th>\n",
       "      <th>max</th>\n",
       "    </tr>\n",
       "  </thead>\n",
       "  <tbody>\n",
       "    <tr>\n",
       "      <th>id</th>\n",
       "      <td>1452.0</td>\n",
       "      <td>749.218320</td>\n",
       "      <td>434.555493</td>\n",
       "      <td>0.000000</td>\n",
       "      <td>369.750000</td>\n",
       "      <td>749.500000</td>\n",
       "      <td>1125.250000</td>\n",
       "      <td>1499.000000</td>\n",
       "    </tr>\n",
       "    <tr>\n",
       "      <th>Transport_service</th>\n",
       "      <td>1452.0</td>\n",
       "      <td>2.488292</td>\n",
       "      <td>1.123890</td>\n",
       "      <td>1.000000</td>\n",
       "      <td>1.000000</td>\n",
       "      <td>2.000000</td>\n",
       "      <td>4.000000</td>\n",
       "      <td>4.000000</td>\n",
       "    </tr>\n",
       "    <tr>\n",
       "      <th>passenger_count</th>\n",
       "      <td>1452.0</td>\n",
       "      <td>2.506198</td>\n",
       "      <td>1.111603</td>\n",
       "      <td>1.000000</td>\n",
       "      <td>2.000000</td>\n",
       "      <td>2.000000</td>\n",
       "      <td>4.000000</td>\n",
       "      <td>4.000000</td>\n",
       "    </tr>\n",
       "    <tr>\n",
       "      <th>trip_distance</th>\n",
       "      <td>1452.0</td>\n",
       "      <td>3.173320</td>\n",
       "      <td>2.798477</td>\n",
       "      <td>0.000000</td>\n",
       "      <td>1.300000</td>\n",
       "      <td>2.250000</td>\n",
       "      <td>4.260000</td>\n",
       "      <td>17.990000</td>\n",
       "    </tr>\n",
       "    <tr>\n",
       "      <th>pickup_longitude</th>\n",
       "      <td>1452.0</td>\n",
       "      <td>-73.973295</td>\n",
       "      <td>0.025778</td>\n",
       "      <td>-74.017311</td>\n",
       "      <td>-73.989311</td>\n",
       "      <td>-73.979614</td>\n",
       "      <td>-73.961092</td>\n",
       "      <td>-73.781807</td>\n",
       "    </tr>\n",
       "    <tr>\n",
       "      <th>pickup_latitude</th>\n",
       "      <td>1452.0</td>\n",
       "      <td>40.750311</td>\n",
       "      <td>0.029513</td>\n",
       "      <td>40.638889</td>\n",
       "      <td>40.733079</td>\n",
       "      <td>40.751900</td>\n",
       "      <td>40.768478</td>\n",
       "      <td>40.847500</td>\n",
       "    </tr>\n",
       "    <tr>\n",
       "      <th>dropoff_longitude</th>\n",
       "      <td>1452.0</td>\n",
       "      <td>-73.965157</td>\n",
       "      <td>0.034889</td>\n",
       "      <td>-74.024834</td>\n",
       "      <td>-73.988117</td>\n",
       "      <td>-73.974369</td>\n",
       "      <td>-73.950407</td>\n",
       "      <td>-73.770943</td>\n",
       "    </tr>\n",
       "    <tr>\n",
       "      <th>dropoff_latitude</th>\n",
       "      <td>1452.0</td>\n",
       "      <td>40.750691</td>\n",
       "      <td>0.038322</td>\n",
       "      <td>40.633560</td>\n",
       "      <td>40.729924</td>\n",
       "      <td>40.751728</td>\n",
       "      <td>40.774967</td>\n",
       "      <td>40.848629</td>\n",
       "    </tr>\n",
       "    <tr>\n",
       "      <th>trip_duration</th>\n",
       "      <td>1452.0</td>\n",
       "      <td>828.261019</td>\n",
       "      <td>528.279643</td>\n",
       "      <td>18.000000</td>\n",
       "      <td>428.000000</td>\n",
       "      <td>708.000000</td>\n",
       "      <td>1116.500000</td>\n",
       "      <td>3201.000000</td>\n",
       "    </tr>\n",
       "  </tbody>\n",
       "</table>\n",
       "</div>"
      ],
      "text/plain": [
       "                    count        mean         std        min         25%  \\\n",
       "id                 1452.0  749.218320  434.555493   0.000000  369.750000   \n",
       "Transport_service  1452.0    2.488292    1.123890   1.000000    1.000000   \n",
       "passenger_count    1452.0    2.506198    1.111603   1.000000    2.000000   \n",
       "trip_distance      1452.0    3.173320    2.798477   0.000000    1.300000   \n",
       "pickup_longitude   1452.0  -73.973295    0.025778 -74.017311  -73.989311   \n",
       "pickup_latitude    1452.0   40.750311    0.029513  40.638889   40.733079   \n",
       "dropoff_longitude  1452.0  -73.965157    0.034889 -74.024834  -73.988117   \n",
       "dropoff_latitude   1452.0   40.750691    0.038322  40.633560   40.729924   \n",
       "trip_duration      1452.0  828.261019  528.279643  18.000000  428.000000   \n",
       "\n",
       "                          50%          75%          max  \n",
       "id                 749.500000  1125.250000  1499.000000  \n",
       "Transport_service    2.000000     4.000000     4.000000  \n",
       "passenger_count      2.000000     4.000000     4.000000  \n",
       "trip_distance        2.250000     4.260000    17.990000  \n",
       "pickup_longitude   -73.979614   -73.961092   -73.781807  \n",
       "pickup_latitude     40.751900    40.768478    40.847500  \n",
       "dropoff_longitude  -73.974369   -73.950407   -73.770943  \n",
       "dropoff_latitude    40.751728    40.774967    40.848629  \n",
       "trip_duration      708.000000  1116.500000  3201.000000  "
      ]
     },
     "execution_count": 11,
     "metadata": {},
     "output_type": "execute_result"
    }
   ],
   "source": [
    "# Checking the descriptive stats of the data\n",
    "trips.describe().T"
   ]
  },
  {
   "cell_type": "markdown",
   "metadata": {
    "id": "VSPfXp6SF4a9"
   },
   "source": [
    "- The median and 75th percentile of the passenger count is 2 and  4 respectively. \n",
    "- Average trip distance is 3.17km, with a maximum value of 18km and Minimum for trip distance is 0.\n",
    "- Average trip duration is 828 sec. "
   ]
  },
  {
   "cell_type": "markdown",
   "metadata": {
    "id": "wFohKubJF4a9"
   },
   "source": [
    "### **Checking for the rows for which trip_distance is 0**"
   ]
  },
  {
   "cell_type": "code",
   "execution_count": null,
   "metadata": {
    "colab": {
     "base_uri": "https://localhost:8080/",
     "height": 264
    },
    "id": "NKBmknLmF4a9",
    "outputId": "85480578-43f6-45a5-c561-758af1848c83"
   },
   "outputs": [
    {
     "data": {
      "text/html": [
       "<div>\n",
       "<style scoped>\n",
       "    .dataframe tbody tr th:only-of-type {\n",
       "        vertical-align: middle;\n",
       "    }\n",
       "\n",
       "    .dataframe tbody tr th {\n",
       "        vertical-align: top;\n",
       "    }\n",
       "\n",
       "    .dataframe thead th {\n",
       "        text-align: right;\n",
       "    }\n",
       "</style>\n",
       "<table border=\"1\" class=\"dataframe\">\n",
       "  <thead>\n",
       "    <tr style=\"text-align: right;\">\n",
       "      <th></th>\n",
       "      <th>id</th>\n",
       "      <th>Transport_service</th>\n",
       "      <th>pickup_datetime</th>\n",
       "      <th>passenger_count</th>\n",
       "      <th>trip_distance</th>\n",
       "      <th>pickup_longitude</th>\n",
       "      <th>pickup_latitude</th>\n",
       "      <th>dropoff_longitude</th>\n",
       "      <th>dropoff_latitude</th>\n",
       "      <th>payment_type</th>\n",
       "      <th>trip_duration</th>\n",
       "      <th>pickup_neighborhood</th>\n",
       "      <th>dropoff_neighborhood</th>\n",
       "    </tr>\n",
       "  </thead>\n",
       "  <tbody>\n",
       "    <tr>\n",
       "      <th>880</th>\n",
       "      <td>880</td>\n",
       "      <td>2</td>\n",
       "      <td>2019-01-01 02:15:00</td>\n",
       "      <td>4</td>\n",
       "      <td>0.0</td>\n",
       "      <td>-74.002586</td>\n",
       "      <td>40.750298</td>\n",
       "      <td>-74.002861</td>\n",
       "      <td>40.750446</td>\n",
       "      <td>2</td>\n",
       "      <td>36</td>\n",
       "      <td>AG</td>\n",
       "      <td>AG</td>\n",
       "    </tr>\n",
       "    <tr>\n",
       "      <th>1116</th>\n",
       "      <td>1116</td>\n",
       "      <td>1</td>\n",
       "      <td>2019-01-01 03:01:00</td>\n",
       "      <td>1</td>\n",
       "      <td>0.0</td>\n",
       "      <td>-73.987831</td>\n",
       "      <td>40.728558</td>\n",
       "      <td>-73.988747</td>\n",
       "      <td>40.727280</td>\n",
       "      <td>3</td>\n",
       "      <td>151</td>\n",
       "      <td>H</td>\n",
       "      <td>H</td>\n",
       "    </tr>\n",
       "    <tr>\n",
       "      <th>1455</th>\n",
       "      <td>1455</td>\n",
       "      <td>1</td>\n",
       "      <td>2019-01-01 04:09:00</td>\n",
       "      <td>1</td>\n",
       "      <td>0.0</td>\n",
       "      <td>-73.985893</td>\n",
       "      <td>40.763649</td>\n",
       "      <td>-73.985741</td>\n",
       "      <td>40.763672</td>\n",
       "      <td>2</td>\n",
       "      <td>80</td>\n",
       "      <td>AR</td>\n",
       "      <td>AR</td>\n",
       "    </tr>\n",
       "    <tr>\n",
       "      <th>1488</th>\n",
       "      <td>1488</td>\n",
       "      <td>2</td>\n",
       "      <td>2019-01-01 04:16:00</td>\n",
       "      <td>3</td>\n",
       "      <td>0.0</td>\n",
       "      <td>-74.014198</td>\n",
       "      <td>40.709988</td>\n",
       "      <td>-74.014198</td>\n",
       "      <td>40.709988</td>\n",
       "      <td>2</td>\n",
       "      <td>18</td>\n",
       "      <td>AU</td>\n",
       "      <td>AU</td>\n",
       "    </tr>\n",
       "  </tbody>\n",
       "</table>\n",
       "</div>"
      ],
      "text/plain": [
       "        id  Transport_service     pickup_datetime  passenger_count  \\\n",
       "880    880                  2 2019-01-01 02:15:00                4   \n",
       "1116  1116                  1 2019-01-01 03:01:00                1   \n",
       "1455  1455                  1 2019-01-01 04:09:00                1   \n",
       "1488  1488                  2 2019-01-01 04:16:00                3   \n",
       "\n",
       "      trip_distance  pickup_longitude  pickup_latitude  dropoff_longitude  \\\n",
       "880             0.0        -74.002586        40.750298         -74.002861   \n",
       "1116            0.0        -73.987831        40.728558         -73.988747   \n",
       "1455            0.0        -73.985893        40.763649         -73.985741   \n",
       "1488            0.0        -74.014198        40.709988         -74.014198   \n",
       "\n",
       "      dropoff_latitude payment_type  trip_duration pickup_neighborhood  \\\n",
       "880          40.750446            2             36                  AG   \n",
       "1116         40.727280            3            151                   H   \n",
       "1455         40.763672            2             80                  AR   \n",
       "1488         40.709988            2             18                  AU   \n",
       "\n",
       "     dropoff_neighborhood  \n",
       "880                    AG  \n",
       "1116                    H  \n",
       "1455                   AR  \n",
       "1488                   AU  "
      ]
     },
     "execution_count": 12,
     "metadata": {},
     "output_type": "execute_result"
    }
   ],
   "source": [
    "# Chekcing the rows where trip distance is 0\n",
    "trips[trips['trip_distance']==0]"
   ]
  },
  {
   "cell_type": "markdown",
   "metadata": {
    "id": "04iy3xxmF4a9"
   },
   "source": [
    "- We can observe that, where trip distance is 0 trip duration is not 0, hence we can replace those values. \n",
    "- There are 4 such rows"
   ]
  },
  {
   "cell_type": "markdown",
   "metadata": {
    "id": "7Zcaj-LQF4a-"
   },
   "source": [
    "#### **Replacing the 0 values with median of the trip distance**"
   ]
  },
  {
   "cell_type": "code",
   "execution_count": null,
   "metadata": {
    "id": "GhdLUSE4F4a-"
   },
   "outputs": [],
   "source": [
    "trips['trip_distance']=trips['trip_distance'].replace(0,trips['trip_distance'].median())"
   ]
  },
  {
   "cell_type": "code",
   "execution_count": null,
   "metadata": {
    "id": "N_gftweevnM5",
    "outputId": "3ea2bcbe-b427-4e12-934e-91c0ca2ee543"
   },
   "outputs": [
    {
     "data": {
      "text/plain": [
       "id                      0\n",
       "Transport_service       0\n",
       "pickup_datetime         0\n",
       "passenger_count         0\n",
       "trip_distance           0\n",
       "pickup_longitude        0\n",
       "pickup_latitude         0\n",
       "dropoff_longitude       0\n",
       "dropoff_latitude        0\n",
       "payment_type            0\n",
       "trip_duration           0\n",
       "pickup_neighborhood     0\n",
       "dropoff_neighborhood    0\n",
       "dtype: int64"
      ]
     },
     "execution_count": 14,
     "metadata": {},
     "output_type": "execute_result"
    }
   ],
   "source": [
    "trips[trips['trip_distance']==0].count()"
   ]
  },
  {
   "cell_type": "code",
   "execution_count": null,
   "metadata": {
    "colab": {
     "base_uri": "https://localhost:8080/"
    },
    "id": "PwG4Q7VgF4a-",
    "outputId": "a2ca6d3e-aeb0-4c5d-bbb2-d91ab44cf928"
   },
   "outputs": [
    {
     "data": {
      "text/html": [
       "<div>\n",
       "<style scoped>\n",
       "    .dataframe tbody tr th:only-of-type {\n",
       "        vertical-align: middle;\n",
       "    }\n",
       "\n",
       "    .dataframe tbody tr th {\n",
       "        vertical-align: top;\n",
       "    }\n",
       "\n",
       "    .dataframe thead th {\n",
       "        text-align: right;\n",
       "    }\n",
       "</style>\n",
       "<table border=\"1\" class=\"dataframe\">\n",
       "  <thead>\n",
       "    <tr style=\"text-align: right;\">\n",
       "      <th></th>\n",
       "      <th>id</th>\n",
       "      <th>Transport_service</th>\n",
       "      <th>pickup_datetime</th>\n",
       "      <th>passenger_count</th>\n",
       "      <th>trip_distance</th>\n",
       "      <th>pickup_longitude</th>\n",
       "      <th>pickup_latitude</th>\n",
       "      <th>dropoff_longitude</th>\n",
       "      <th>dropoff_latitude</th>\n",
       "      <th>payment_type</th>\n",
       "      <th>trip_duration</th>\n",
       "      <th>pickup_neighborhood</th>\n",
       "      <th>dropoff_neighborhood</th>\n",
       "    </tr>\n",
       "  </thead>\n",
       "  <tbody>\n",
       "  </tbody>\n",
       "</table>\n",
       "</div>"
      ],
      "text/plain": [
       "Empty DataFrame\n",
       "Columns: [id, Transport_service, pickup_datetime, passenger_count, trip_distance, pickup_longitude, pickup_latitude, dropoff_longitude, dropoff_latitude, payment_type, trip_duration, pickup_neighborhood, dropoff_neighborhood]\n",
       "Index: []"
      ]
     },
     "execution_count": 15,
     "metadata": {},
     "output_type": "execute_result"
    }
   ],
   "source": [
    "trips[trips['trip_duration']==0]"
   ]
  },
  {
   "cell_type": "markdown",
   "metadata": {
    "id": "qgSkqrNpvnM5"
   },
   "source": [
    "- There are no such rows with trip_duration=0"
   ]
  },
  {
   "cell_type": "markdown",
   "metadata": {
    "id": "Mf3yzxb1F4a_"
   },
   "source": [
    "## **Question 2: Univariate Analysis**"
   ]
  },
  {
   "cell_type": "markdown",
   "metadata": {
    "id": "OBv_CnrOF4a_"
   },
   "source": [
    "### **Question 2.1: Build histogram for numerical columns (1 Marks)**"
   ]
  },
  {
   "cell_type": "code",
   "execution_count": null,
   "metadata": {
    "colab": {
     "base_uri": "https://localhost:8080/",
     "height": 716
    },
    "id": "vrQdvZCOF4a_",
    "outputId": "af5f20b4-ed60-4872-bb06-e83c5512ec52"
   },
   "outputs": [
    {
     "data": {
      "image/png": "[encoded data removed]",
      "text/plain": [
       "<Figure size 864x864 with 12 Axes>"
      ]
     },
     "metadata": {
      "needs_background": "light"
     },
     "output_type": "display_data"
    }
   ],
   "source": [
    "trips.hist(figsize=(12,12))\n",
    "plt.show()"
   ]
  },
  {
   "cell_type": "markdown",
   "metadata": {
    "id": "_rEJwQ_oF4a_"
   },
   "source": [
    "- Pickup latitude,  dropoff latitude are nearly normal distribution, while  pickup longitude,dropoff longitude  are a bit right skewed.\n",
    "- Trip distance seem to have some outlier, which we can investigate through boxplot. \n",
    "- trip duration is also rightly skewed. "
   ]
  },
  {
   "cell_type": "code",
   "execution_count": null,
   "metadata": {
    "colab": {
     "base_uri": "https://localhost:8080/",
     "height": 335
    },
    "id": "gPB6nlfSF4a_",
    "outputId": "e0476b0a-6b92-4d6b-afc7-306cec0bdd80"
   },
   "outputs": [
    {
     "data": {
      "image/png": "[encoded data removed]",
      "text/plain": [
       "<Figure size 432x288 with 1 Axes>"
      ]
     },
     "metadata": {
      "needs_background": "light"
     },
     "output_type": "display_data"
    }
   ],
   "source": [
    "sns.boxplot(trips['trip_distance'])\n",
    "plt.show()"
   ]
  },
  {
   "cell_type": "markdown",
   "metadata": {
    "id": "_TzLivciF4a_"
   },
   "source": [
    "- We can see there is an extreme outlier in the dataset."
   ]
  },
  {
   "cell_type": "markdown",
   "metadata": {
    "id": "3f11ckdWF4bA"
   },
   "source": [
    "### **Question 2.2 Plotting countplot for Passenger_count (1 Marks)**"
   ]
  },
  {
   "cell_type": "code",
   "execution_count": null,
   "metadata": {
    "colab": {
     "base_uri": "https://localhost:8080/",
     "height": 392
    },
    "id": "Xba4Zoh6F4bA",
    "outputId": "7cf7865c-5898-43c1-b4fa-39336fe61fa3"
   },
   "outputs": [
    {
     "data": {
      "image/png": "[encoded data removed]",
      "text/plain": [
       "<Figure size 720x360 with 1 Axes>"
      ]
     },
     "metadata": {
      "needs_background": "light"
     },
     "output_type": "display_data"
    }
   ],
   "source": [
    "plt.figure(figsize=(10,5))\n",
    "sns.countplot(trips.passenger_count)\n",
    "plt.show()"
   ]
  },
  {
   "cell_type": "code",
   "execution_count": null,
   "metadata": {
    "colab": {
     "base_uri": "https://localhost:8080/"
    },
    "id": "oqaHdmlPF4bA",
    "outputId": "e094f6cb-58c0-41fb-b4a6-f6ba1e8b0f17"
   },
   "outputs": [
    {
     "data": {
      "text/plain": [
       "2    0.263085\n",
       "4    0.251377\n",
       "3    0.244490\n",
       "1    0.241047\n",
       "Name: passenger_count, dtype: float64"
      ]
     },
     "execution_count": 19,
     "metadata": {},
     "output_type": "execute_result"
    }
   ],
   "source": [
    "trips.passenger_count.value_counts(normalize=True)"
   ]
  },
  {
   "cell_type": "markdown",
   "metadata": {
    "id": "E7JQYcBhF4bA"
   },
   "source": [
    "- The distribution of the passenger count is nearly same."
   ]
  },
  {
   "cell_type": "markdown",
   "metadata": {
    "id": "T1JjC55EF4bA"
   },
   "source": [
    "### **Question 2.3 Plotting countplot for pickup_neighborhood and dropoff_neighborhood (2 Marks)**"
   ]
  },
  {
   "cell_type": "code",
   "execution_count": null,
   "metadata": {
    "colab": {
     "base_uri": "https://localhost:8080/",
     "height": 506
    },
    "id": "vmWX-x9iF4bA",
    "outputId": "1d64cf91-fd0e-45ea-c719-218cf1274fbf"
   },
   "outputs": [
    {
     "data": {
      "text/plain": [
       "<AxesSubplot:>"
      ]
     },
     "execution_count": 20,
     "metadata": {},
     "output_type": "execute_result"
    },
    {
     "data": {
      "image/png": "[encoded data removed]",
      "text/plain": [
       "<Figure size 1440x576 with 1 Axes>"
      ]
     },
     "metadata": {
      "needs_background": "light"
     },
     "output_type": "display_data"
    }
   ],
   "source": [
    "trips.pickup_neighborhood.value_counts().sort_values(ascending=False).plot(kind='bar' ,figsize=(20,8))"
   ]
  },
  {
   "cell_type": "code",
   "execution_count": null,
   "metadata": {
    "colab": {
     "base_uri": "https://localhost:8080/",
     "height": 506
    },
    "id": "psyg8gmEF4bA",
    "outputId": "bbc525f5-87be-4474-df91-a123a67bcdeb"
   },
   "outputs": [
    {
     "data": {
      "text/plain": [
       "<AxesSubplot:>"
      ]
     },
     "execution_count": 21,
     "metadata": {},
     "output_type": "execute_result"
    },
    {
     "data": {
      "image/png": "[encoded data removed]",
      "text/plain": [
       "<Figure size 1440x576 with 1 Axes>"
      ]
     },
     "metadata": {
      "needs_background": "light"
     },
     "output_type": "display_data"
    }
   ],
   "source": [
    "trips.dropoff_neighborhood.value_counts().sort_values(ascending=False).plot(kind='bar' ,figsize=(20,8))"
   ]
  },
  {
   "cell_type": "markdown",
   "metadata": {
    "id": "PQzSPDFZF4bA"
   },
   "source": [
    "- Most of the pickup and dropoff are from area AT,AD,AM implies these are are the most busy in the city. \n",
    "- Areas like T,G are some areas from where very less number of pickups and dropoff are happening. "
   ]
  },
  {
   "cell_type": "markdown",
   "metadata": {
    "id": "NqzWhCDGF4bB"
   },
   "source": [
    "## **Bivariate analysis**"
   ]
  },
  {
   "cell_type": "markdown",
   "metadata": {
    "id": "FmPCc2UAF4bB"
   },
   "source": [
    "#### **Plot a scatter plot for trip distance and trip duration**"
   ]
  },
  {
   "cell_type": "code",
   "execution_count": null,
   "metadata": {
    "colab": {
     "base_uri": "https://localhost:8080/",
     "height": 352
    },
    "id": "nMUcIKoMF4bB",
    "outputId": "2f5eda84-5c7c-4cb7-df8a-0c6e74ea2ca0"
   },
   "outputs": [
    {
     "data": {
      "text/plain": [
       "<AxesSubplot:xlabel='trip_distance', ylabel='trip_duration'>"
      ]
     },
     "execution_count": 22,
     "metadata": {},
     "output_type": "execute_result"
    },
    {
     "data": {
      "image/png": "[encoded data removed]",
      "text/plain": [
       "<Figure size 432x288 with 1 Axes>"
      ]
     },
     "metadata": {
      "needs_background": "light"
     },
     "output_type": "display_data"
    }
   ],
   "source": [
    "sns.scatterplot(trips['trip_distance'],trips['trip_duration'])"
   ]
  },
  {
   "cell_type": "markdown",
   "metadata": {
    "id": "mIeqSFS4F4bC"
   },
   "source": [
    "- There is strong positive correlation between trip_distance and trip_duration."
   ]
  },
  {
   "cell_type": "code",
   "execution_count": null,
   "metadata": {
    "colab": {
     "base_uri": "https://localhost:8080/",
     "height": 352
    },
    "id": "O0DpjxyTF4bC",
    "outputId": "5b141729-c08a-41ba-e35e-cc9a2fd63151"
   },
   "outputs": [
    {
     "data": {
      "text/plain": [
       "<AxesSubplot:xlabel='passenger_count', ylabel='count'>"
      ]
     },
     "execution_count": 23,
     "metadata": {},
     "output_type": "execute_result"
    },
    {
     "data": {
      "image/png": "[encoded data removed]",
      "text/plain": [
       "<Figure size 432x288 with 1 Axes>"
      ]
     },
     "metadata": {
      "needs_background": "light"
     },
     "output_type": "display_data"
    }
   ],
   "source": [
    "sns.countplot(trips['passenger_count'],hue=trips['payment_type'])"
   ]
  },
  {
   "cell_type": "markdown",
   "metadata": {
    "id": "0TZUeb85F4bC"
   },
   "source": [
    "- There is no such specific pattern can be observed."
   ]
  },
  {
   "cell_type": "markdown",
   "metadata": {
    "id": "Kqmr1wF5F4bD"
   },
   "source": [
    "## **Step 2: Prepare the Data**\n",
    "\n",
    "Lets create entities and relationships. The three entities in this data are \n",
    "* trips \n",
    "* pickup_neighborhoods\n",
    "* dropoff_neighborhoods\n",
    "\n",
    "This data has the following relationships\n",
    "* pickup_neighborhoods --> trips (one neighborhood can have multiple trips that start in it. This means pickup_neighborhoods is the ``parent_entity`` and trips is the child entity)\n",
    "* dropoff_neighborhoods --> trips (one neighborhood can have multiple trips that end in it. This means dropoff_neighborhoods is the ``parent_entity`` and trips is the child entity)\n",
    "\n",
    "In [featuretools](https://featuretools.alteryx.com/en/v0.27.0/getting_started/getting_started_index.html) (automated feature engineering software package), we specify the list of entities and relationships as follows: \n"
   ]
  },
  {
   "cell_type": "markdown",
   "metadata": {
    "id": "Z31RjCMXF4bD"
   },
   "source": [
    "### **Question 3: Define entities and relationships for the Deep Feature Synthesis (2 Marks)**"
   ]
  },
  {
   "cell_type": "code",
   "execution_count": null,
   "metadata": {
    "ExecuteTime": {
     "end_time": "2021-07-15T12:41:08.351728Z",
     "start_time": "2021-07-15T12:41:08.253155Z"
    },
    "id": "5dVgPuBmF4bD"
   },
   "outputs": [],
   "source": [
    "entities = {\n",
    "        \"trips\": (trips, \"id\", 'pickup_datetime' ),\n",
    "        \"pickup_neighborhoods\": (pickup_neighborhoods, \"neighborhood_id\"),\n",
    "        \"dropoff_neighborhoods\": (dropoff_neighborhoods, \"neighborhood_id\"),\n",
    "        }\n",
    "\n",
    "relationships = [(\"pickup_neighborhoods\", \"neighborhood_id\", \"trips\", \"pickup_neighborhood\"),\n",
    "                 (\"dropoff_neighborhoods\", \"neighborhood_id\", \"trips\", \"dropoff_neighborhood\")]"
   ]
  },
  {
   "cell_type": "markdown",
   "metadata": {
    "id": "x29sUuiDF4bD"
   },
   "source": [
    "Next, we specify the cutoff time for each instance of the target_entity, in this case ``trips``.This timestamp represents the last time data can be used for calculating features by DFS. In this scenario, that would be the pickup time because we would like to make the duration prediction using data before the trip starts. \n",
    "\n",
    "For the purposes of the case study, we choose to only select trips that started after **January 12th, 2016**. "
   ]
  },
  {
   "cell_type": "code",
   "execution_count": null,
   "metadata": {
    "ExecuteTime": {
     "end_time": "2021-07-15T12:41:53.295477Z",
     "start_time": "2021-07-15T12:41:53.056658Z"
    },
    "colab": {
     "base_uri": "https://localhost:8080/",
     "height": 363
    },
    "id": "Wj4gxc5cF4bD",
    "outputId": "9270093b-c00b-49e6-daa6-c72a33dbb111"
   },
   "outputs": [
    {
     "data": {
      "text/html": [
       "<div>\n",
       "<style scoped>\n",
       "    .dataframe tbody tr th:only-of-type {\n",
       "        vertical-align: middle;\n",
       "    }\n",
       "\n",
       "    .dataframe tbody tr th {\n",
       "        vertical-align: top;\n",
       "    }\n",
       "\n",
       "    .dataframe thead th {\n",
       "        text-align: right;\n",
       "    }\n",
       "</style>\n",
       "<table border=\"1\" class=\"dataframe\">\n",
       "  <thead>\n",
       "    <tr style=\"text-align: right;\">\n",
       "      <th></th>\n",
       "      <th>id</th>\n",
       "      <th>pickup_datetime</th>\n",
       "    </tr>\n",
       "  </thead>\n",
       "  <tbody>\n",
       "    <tr>\n",
       "      <th>0</th>\n",
       "      <td>0</td>\n",
       "      <td>2019-01-01 00:00:00</td>\n",
       "    </tr>\n",
       "    <tr>\n",
       "      <th>1004</th>\n",
       "      <td>1004</td>\n",
       "      <td>2019-01-01 02:39:00</td>\n",
       "    </tr>\n",
       "    <tr>\n",
       "      <th>1003</th>\n",
       "      <td>1003</td>\n",
       "      <td>2019-01-01 02:39:00</td>\n",
       "    </tr>\n",
       "    <tr>\n",
       "      <th>1002</th>\n",
       "      <td>1002</td>\n",
       "      <td>2019-01-01 02:39:00</td>\n",
       "    </tr>\n",
       "    <tr>\n",
       "      <th>1001</th>\n",
       "      <td>1001</td>\n",
       "      <td>2019-01-01 02:39:00</td>\n",
       "    </tr>\n",
       "    <tr>\n",
       "      <th>1000</th>\n",
       "      <td>1000</td>\n",
       "      <td>2019-01-01 02:39:00</td>\n",
       "    </tr>\n",
       "    <tr>\n",
       "      <th>999</th>\n",
       "      <td>999</td>\n",
       "      <td>2019-01-01 02:39:00</td>\n",
       "    </tr>\n",
       "    <tr>\n",
       "      <th>998</th>\n",
       "      <td>998</td>\n",
       "      <td>2019-01-01 02:39:00</td>\n",
       "    </tr>\n",
       "    <tr>\n",
       "      <th>997</th>\n",
       "      <td>997</td>\n",
       "      <td>2019-01-01 02:38:00</td>\n",
       "    </tr>\n",
       "    <tr>\n",
       "      <th>1005</th>\n",
       "      <td>1005</td>\n",
       "      <td>2019-01-01 02:39:00</td>\n",
       "    </tr>\n",
       "  </tbody>\n",
       "</table>\n",
       "</div>"
      ],
      "text/plain": [
       "        id     pickup_datetime\n",
       "0        0 2019-01-01 00:00:00\n",
       "1004  1004 2019-01-01 02:39:00\n",
       "1003  1003 2019-01-01 02:39:00\n",
       "1002  1002 2019-01-01 02:39:00\n",
       "1001  1001 2019-01-01 02:39:00\n",
       "1000  1000 2019-01-01 02:39:00\n",
       "999    999 2019-01-01 02:39:00\n",
       "998    998 2019-01-01 02:39:00\n",
       "997    997 2019-01-01 02:38:00\n",
       "1005  1005 2019-01-01 02:39:00"
      ]
     },
     "execution_count": 25,
     "metadata": {},
     "output_type": "execute_result"
    }
   ],
   "source": [
    "cutoff_time = trips[['id', 'pickup_datetime']]\n",
    "preview(cutoff_time, 10)"
   ]
  },
  {
   "cell_type": "markdown",
   "metadata": {
    "id": "3yOIEIF2F4bD"
   },
   "source": [
    "## **Step 3: Create baseline features using Deep Feature Synthesis**\n",
    "\n",
    "Instead of manually creating features, such as \"month of pickup datetime\", we can let DFS come up with them automatically. It does this by \n",
    "* interpreting the variable types of the columns e.g categorical, numeric and others \n",
    "* matching the columns to the primitives that can be applied to their variable types\n",
    "* creating features based on these matches"
   ]
  },
  {
   "cell_type": "markdown",
   "metadata": {
    "id": "E8Xpm3BzF4bD"
   },
   "source": [
    "**Create transform features using transform primitives**\n",
    "\n",
    "As we described in the video, features fall into two major categories, ``transform`` and ``aggregate``. In featureools, we can create transform features by specifying ``transform`` primitives. Below we specify a ``transform`` primitive called ``weekend`` and here is what it does:\n",
    "\n",
    "* It can be applied to any ``datetime`` column in the data. \n",
    "* For each entry in the column, it assess if it is a ``weekend`` and returns a boolean. \n",
    "\n",
    "In this specific data, there are one ``datetime`` column ``pickup_datetime``. The tool automatically creates features using the primitive and these two columns as shown below. "
   ]
  },
  {
   "cell_type": "markdown",
   "metadata": {
    "id": "xzI_0jdUF4bD"
   },
   "source": [
    "## **Question 4: Creating a baseline model with only 1 transform primitive (10 Marks)**\n",
    "\n",
    "### **Question: 4.1 Define transform primitive for weekend and define features using dfs?**  "
   ]
  },
  {
   "cell_type": "code",
   "execution_count": null,
   "metadata": {
    "ExecuteTime": {
     "end_time": "2021-07-15T12:46:18.552030Z",
     "start_time": "2021-07-15T12:46:16.349739Z"
    },
    "id": "vd_u0r3DF4bD"
   },
   "outputs": [],
   "source": [
    "trans_primitives = [IsWeekend]\n",
    "\n",
    "features = ft.dfs(entities=entities,\n",
    "                  relationships=relationships,\n",
    "                  target_entity=\"trips\",\n",
    "                  trans_primitives=trans_primitives,\n",
    "                  agg_primitives=[],\n",
    "                  ignore_variables={\"trips\": [\"pickup_latitude\", \"pickup_longitude\",\n",
    "                                              \"dropoff_latitude\", \"dropoff_longitude\"]},\n",
    "                  features_only=True)"
   ]
  },
  {
   "cell_type": "markdown",
   "metadata": {
    "id": "pckfuAAIF4bE"
   },
   "source": [
    "*If you're interested about parameters to DFS such as `ignore_variables`, you can learn more about these parameters [here](https://featuretools.alteryx.com/en/v0.27.0/getting_started/getting_started_index.html)*\n",
    "<p>Here are the features created.</p>"
   ]
  },
  {
   "cell_type": "code",
   "execution_count": null,
   "metadata": {
    "ExecuteTime": {
     "end_time": "2021-07-15T12:46:24.799450Z",
     "start_time": "2021-07-15T12:46:24.699552Z"
    },
    "colab": {
     "base_uri": "https://localhost:8080/"
    },
    "id": "r4h-NfkdF4bE",
    "outputId": "ee2a487a-a6ed-4767-f45e-8006fce2392f"
   },
   "outputs": [
    {
     "name": "stdout",
     "output_type": "stream",
     "text": [
      "Number of features: 12\n"
     ]
    },
    {
     "data": {
      "text/plain": [
       "[<Feature: Transport_service>,\n",
       " <Feature: passenger_count>,\n",
       " <Feature: trip_distance>,\n",
       " <Feature: payment_type>,\n",
       " <Feature: trip_duration>,\n",
       " <Feature: pickup_neighborhood>,\n",
       " <Feature: dropoff_neighborhood>,\n",
       " <Feature: IS_WEEKEND(pickup_datetime)>,\n",
       " <Feature: pickup_neighborhoods.latitude>,\n",
       " <Feature: pickup_neighborhoods.longitude>,\n",
       " <Feature: dropoff_neighborhoods.latitude>,\n",
       " <Feature: dropoff_neighborhoods.longitude>]"
      ]
     },
     "execution_count": 27,
     "metadata": {},
     "output_type": "execute_result"
    }
   ],
   "source": [
    "print (\"Number of features: %d\" % len(features))\n",
    "features"
   ]
  },
  {
   "cell_type": "markdown",
   "metadata": {
    "id": "D_Fl2FOUF4bE"
   },
   "source": [
    "\n",
    "Now let's compute the features. "
   ]
  },
  {
   "cell_type": "markdown",
   "metadata": {
    "id": "14cHn-RXF4bE"
   },
   "source": [
    "### **Question: 4.2 Compute features and define feature matrix**"
   ]
  },
  {
   "cell_type": "code",
   "execution_count": null,
   "metadata": {
    "ExecuteTime": {
     "end_time": "2021-07-15T12:46:56.132642Z",
     "start_time": "2021-07-15T12:46:56.030342Z"
    },
    "id": "8B6uIY5DF4bE"
   },
   "outputs": [],
   "source": [
    "def compute_features(features, cutoff_time):\n",
    "    # shuffle so we don't see encoded features in the front or backs\n",
    "\n",
    "    np.random.shuffle(features)\n",
    "    feature_matrix = ft.calculate_feature_matrix(features,\n",
    "                                                 cutoff_time=cutoff_time,\n",
    "                                                 approximate='36d',\n",
    "                                                 verbose=True,entities=entities, relationships=relationships)\n",
    "    print(\"Finishing computing...\")\n",
    "    feature_matrix, features = ft.encode_features(feature_matrix, features,\n",
    "                                                  to_encode=[\"pickup_neighborhood\", \"dropoff_neighborhood\"],\n",
    "                                                  include_unknown=False)\n",
    "    return feature_matrix"
   ]
  },
  {
   "cell_type": "code",
   "execution_count": null,
   "metadata": {
    "colab": {
     "base_uri": "https://localhost:8080/"
    },
    "id": "npf-uWQkF4bE",
    "outputId": "803bf52d-87be-4390-c4d8-dc223e906d4a"
   },
   "outputs": [
    {
     "name": "stdout",
     "output_type": "stream",
     "text": [
      "Elapsed: 00:00 | Progress: 100%|███████████████████████████████████████████████████████████████████████████████████████\n",
      "Finishing computing...\n"
     ]
    }
   ],
   "source": [
    "feature_matrix1 = compute_features(features, cutoff_time)"
   ]
  },
  {
   "cell_type": "code",
   "execution_count": null,
   "metadata": {
    "ExecuteTime": {
     "end_time": "2021-07-15T12:47:21.290315Z",
     "start_time": "2021-07-15T12:47:20.995105Z"
    },
    "colab": {
     "base_uri": "https://localhost:8080/",
     "height": 275
    },
    "id": "vVu5cgnsF4bE",
    "outputId": "309a8eaa-f6d8-4de3-f31d-8074a6022af0"
   },
   "outputs": [
    {
     "data": {
      "text/html": [
       "<div>\n",
       "<style scoped>\n",
       "    .dataframe tbody tr th:only-of-type {\n",
       "        vertical-align: middle;\n",
       "    }\n",
       "\n",
       "    .dataframe tbody tr th {\n",
       "        vertical-align: top;\n",
       "    }\n",
       "\n",
       "    .dataframe thead th {\n",
       "        text-align: right;\n",
       "    }\n",
       "</style>\n",
       "<table border=\"1\" class=\"dataframe\">\n",
       "  <thead>\n",
       "    <tr style=\"text-align: right;\">\n",
       "      <th></th>\n",
       "      <th>trip_duration</th>\n",
       "      <th>Transport_service</th>\n",
       "      <th>payment_type</th>\n",
       "      <th>passenger_count</th>\n",
       "      <th>pickup_neighborhoods.latitude</th>\n",
       "      <th>IS_WEEKEND(pickup_datetime)</th>\n",
       "      <th>pickup_neighborhoods.longitude</th>\n",
       "      <th>dropoff_neighborhoods.latitude</th>\n",
       "      <th>dropoff_neighborhoods.longitude</th>\n",
       "      <th>dropoff_neighborhood = AM</th>\n",
       "      <th>...</th>\n",
       "      <th>pickup_neighborhood = AD</th>\n",
       "      <th>pickup_neighborhood = AR</th>\n",
       "      <th>pickup_neighborhood = AT</th>\n",
       "      <th>pickup_neighborhood = AM</th>\n",
       "      <th>pickup_neighborhood = AC</th>\n",
       "      <th>pickup_neighborhood = P</th>\n",
       "      <th>pickup_neighborhood = AO</th>\n",
       "      <th>pickup_neighborhood = N</th>\n",
       "      <th>pickup_neighborhood = I</th>\n",
       "      <th>pickup_neighborhood = R</th>\n",
       "    </tr>\n",
       "    <tr>\n",
       "      <th>id</th>\n",
       "      <th></th>\n",
       "      <th></th>\n",
       "      <th></th>\n",
       "      <th></th>\n",
       "      <th></th>\n",
       "      <th></th>\n",
       "      <th></th>\n",
       "      <th></th>\n",
       "      <th></th>\n",
       "      <th></th>\n",
       "      <th></th>\n",
       "      <th></th>\n",
       "      <th></th>\n",
       "      <th></th>\n",
       "      <th></th>\n",
       "      <th></th>\n",
       "      <th></th>\n",
       "      <th></th>\n",
       "      <th></th>\n",
       "      <th></th>\n",
       "      <th></th>\n",
       "    </tr>\n",
       "  </thead>\n",
       "  <tbody>\n",
       "    <tr>\n",
       "      <th>0</th>\n",
       "      <td>387</td>\n",
       "      <td>3</td>\n",
       "      <td>3</td>\n",
       "      <td>1</td>\n",
       "      <td>40.804349</td>\n",
       "      <td>False</td>\n",
       "      <td>-73.961716</td>\n",
       "      <td>40.783780</td>\n",
       "      <td>-73.953145</td>\n",
       "      <td>False</td>\n",
       "      <td>...</td>\n",
       "      <td>False</td>\n",
       "      <td>False</td>\n",
       "      <td>False</td>\n",
       "      <td>False</td>\n",
       "      <td>False</td>\n",
       "      <td>False</td>\n",
       "      <td>False</td>\n",
       "      <td>False</td>\n",
       "      <td>False</td>\n",
       "      <td>False</td>\n",
       "    </tr>\n",
       "    <tr>\n",
       "      <th>1004</th>\n",
       "      <td>1215</td>\n",
       "      <td>4</td>\n",
       "      <td>1</td>\n",
       "      <td>1</td>\n",
       "      <td>40.744928</td>\n",
       "      <td>False</td>\n",
       "      <td>-73.919159</td>\n",
       "      <td>40.766575</td>\n",
       "      <td>-73.919853</td>\n",
       "      <td>False</td>\n",
       "      <td>...</td>\n",
       "      <td>False</td>\n",
       "      <td>False</td>\n",
       "      <td>False</td>\n",
       "      <td>False</td>\n",
       "      <td>False</td>\n",
       "      <td>False</td>\n",
       "      <td>False</td>\n",
       "      <td>False</td>\n",
       "      <td>False</td>\n",
       "      <td>False</td>\n",
       "    </tr>\n",
       "    <tr>\n",
       "      <th>1003</th>\n",
       "      <td>215</td>\n",
       "      <td>3</td>\n",
       "      <td>1</td>\n",
       "      <td>4</td>\n",
       "      <td>40.715828</td>\n",
       "      <td>False</td>\n",
       "      <td>-73.954298</td>\n",
       "      <td>40.715828</td>\n",
       "      <td>-73.954298</td>\n",
       "      <td>False</td>\n",
       "      <td>...</td>\n",
       "      <td>False</td>\n",
       "      <td>False</td>\n",
       "      <td>False</td>\n",
       "      <td>False</td>\n",
       "      <td>False</td>\n",
       "      <td>False</td>\n",
       "      <td>False</td>\n",
       "      <td>False</td>\n",
       "      <td>False</td>\n",
       "      <td>False</td>\n",
       "    </tr>\n",
       "    <tr>\n",
       "      <th>1002</th>\n",
       "      <td>561</td>\n",
       "      <td>2</td>\n",
       "      <td>2</td>\n",
       "      <td>3</td>\n",
       "      <td>40.729670</td>\n",
       "      <td>False</td>\n",
       "      <td>-73.981693</td>\n",
       "      <td>40.775357</td>\n",
       "      <td>-73.949840</td>\n",
       "      <td>True</td>\n",
       "      <td>...</td>\n",
       "      <td>False</td>\n",
       "      <td>False</td>\n",
       "      <td>True</td>\n",
       "      <td>False</td>\n",
       "      <td>False</td>\n",
       "      <td>False</td>\n",
       "      <td>False</td>\n",
       "      <td>False</td>\n",
       "      <td>False</td>\n",
       "      <td>False</td>\n",
       "    </tr>\n",
       "    <tr>\n",
       "      <th>1001</th>\n",
       "      <td>1576</td>\n",
       "      <td>1</td>\n",
       "      <td>2</td>\n",
       "      <td>3</td>\n",
       "      <td>40.721435</td>\n",
       "      <td>False</td>\n",
       "      <td>-73.998366</td>\n",
       "      <td>40.793597</td>\n",
       "      <td>-73.969822</td>\n",
       "      <td>False</td>\n",
       "      <td>...</td>\n",
       "      <td>False</td>\n",
       "      <td>False</td>\n",
       "      <td>False</td>\n",
       "      <td>False</td>\n",
       "      <td>False</td>\n",
       "      <td>False</td>\n",
       "      <td>False</td>\n",
       "      <td>False</td>\n",
       "      <td>False</td>\n",
       "      <td>False</td>\n",
       "    </tr>\n",
       "  </tbody>\n",
       "</table>\n",
       "<p>5 rows × 30 columns</p>\n",
       "</div>"
      ],
      "text/plain": [
       "      trip_duration  Transport_service payment_type  passenger_count  \\\n",
       "id                                                                     \n",
       "0               387                  3            3                1   \n",
       "1004           1215                  4            1                1   \n",
       "1003            215                  3            1                4   \n",
       "1002            561                  2            2                3   \n",
       "1001           1576                  1            2                3   \n",
       "\n",
       "      pickup_neighborhoods.latitude  IS_WEEKEND(pickup_datetime)  \\\n",
       "id                                                                 \n",
       "0                         40.804349                        False   \n",
       "1004                      40.744928                        False   \n",
       "1003                      40.715828                        False   \n",
       "1002                      40.729670                        False   \n",
       "1001                      40.721435                        False   \n",
       "\n",
       "      pickup_neighborhoods.longitude  dropoff_neighborhoods.latitude  \\\n",
       "id                                                                     \n",
       "0                         -73.961716                       40.783780   \n",
       "1004                      -73.919159                       40.766575   \n",
       "1003                      -73.954298                       40.715828   \n",
       "1002                      -73.981693                       40.775357   \n",
       "1001                      -73.998366                       40.793597   \n",
       "\n",
       "      dropoff_neighborhoods.longitude  dropoff_neighborhood = AM  ...  \\\n",
       "id                                                                ...   \n",
       "0                          -73.953145                      False  ...   \n",
       "1004                       -73.919853                      False  ...   \n",
       "1003                       -73.954298                      False  ...   \n",
       "1002                       -73.949840                       True  ...   \n",
       "1001                       -73.969822                      False  ...   \n",
       "\n",
       "      pickup_neighborhood = AD  pickup_neighborhood = AR  \\\n",
       "id                                                         \n",
       "0                        False                     False   \n",
       "1004                     False                     False   \n",
       "1003                     False                     False   \n",
       "1002                     False                     False   \n",
       "1001                     False                     False   \n",
       "\n",
       "      pickup_neighborhood = AT  pickup_neighborhood = AM  \\\n",
       "id                                                         \n",
       "0                        False                     False   \n",
       "1004                     False                     False   \n",
       "1003                     False                     False   \n",
       "1002                      True                     False   \n",
       "1001                     False                     False   \n",
       "\n",
       "      pickup_neighborhood = AC  pickup_neighborhood = P  \\\n",
       "id                                                        \n",
       "0                        False                    False   \n",
       "1004                     False                    False   \n",
       "1003                     False                    False   \n",
       "1002                     False                    False   \n",
       "1001                     False                    False   \n",
       "\n",
       "      pickup_neighborhood = AO  pickup_neighborhood = N  \\\n",
       "id                                                        \n",
       "0                        False                    False   \n",
       "1004                     False                    False   \n",
       "1003                     False                    False   \n",
       "1002                     False                    False   \n",
       "1001                     False                    False   \n",
       "\n",
       "      pickup_neighborhood = I  pickup_neighborhood = R  \n",
       "id                                                      \n",
       "0                       False                    False  \n",
       "1004                    False                    False  \n",
       "1003                    False                    False  \n",
       "1002                    False                    False  \n",
       "1001                    False                    False  \n",
       "\n",
       "[5 rows x 30 columns]"
      ]
     },
     "execution_count": 30,
     "metadata": {},
     "output_type": "execute_result"
    }
   ],
   "source": [
    "preview(feature_matrix1, 5)"
   ]
  },
  {
   "cell_type": "code",
   "execution_count": null,
   "metadata": {
    "colab": {
     "base_uri": "https://localhost:8080/"
    },
    "id": "qio54yMXF4bE",
    "outputId": "e31fe6b8-665b-4b67-a104-cd1a083fce69"
   },
   "outputs": [
    {
     "data": {
      "text/plain": [
       "(1452, 30)"
      ]
     },
     "execution_count": 31,
     "metadata": {},
     "output_type": "execute_result"
    }
   ],
   "source": [
    "feature_matrix1.shape"
   ]
  },
  {
   "cell_type": "markdown",
   "metadata": {
    "id": "NUlLIx5QF4bE"
   },
   "source": [
    "### **Model Building**\n",
    "------------------\n",
    "\n",
    "To build a model, we\n",
    "* Separate the data into a portion for ``training`` (75% in this case) and a portion for ``testing`` \n",
    "* Get the log of the trip duration so that a more linear relationship can be found.\n",
    "* Train a model using a ``Linear Regression, Decision Tree and Random Forest model``"
   ]
  },
  {
   "cell_type": "markdown",
   "metadata": {
    "id": "7F3rlIZwF4bE"
   },
   "source": [
    "#### **Transforming the duration variable on sqrt and log**"
   ]
  },
  {
   "cell_type": "code",
   "execution_count": null,
   "metadata": {
    "colab": {
     "base_uri": "https://localhost:8080/",
     "height": 352
    },
    "id": "7H-xfzjDF4bE",
    "outputId": "ac367f09-a652-4a1e-c40b-8a189d01ee21"
   },
   "outputs": [
    {
     "data": {
      "text/plain": [
       "(array([ 11.,  89., 208., 320., 320., 235., 148.,  86.,  24.,  11.]),\n",
       " array([ 4.24264069,  9.47611468, 14.70958868, 19.94306267, 25.17653667,\n",
       "        30.41001066, 35.64348466, 40.87695865, 46.11043265, 51.34390664,\n",
       "        56.57738064]),\n",
       " <BarContainer object of 10 artists>)"
      ]
     },
     "execution_count": 32,
     "metadata": {},
     "output_type": "execute_result"
    },
    {
     "data": {
      "image/png": "[encoded data removed]",
      "text/plain": [
       "<Figure size 432x288 with 1 Axes>"
      ]
     },
     "metadata": {
      "needs_background": "light"
     },
     "output_type": "display_data"
    }
   ],
   "source": [
    "plt.hist(np.sqrt(trips['trip_duration']))\n",
    "plt.show()"
   ]
  },
  {
   "cell_type": "code",
   "execution_count": null,
   "metadata": {
    "colab": {
     "base_uri": "https://localhost:8080/",
     "height": 352
    },
    "id": "Rxj4czFbF4bF",
    "outputId": "4546e2d7-2e43-49d6-992a-9b3f620d54ad"
   },
   "outputs": [
    {
     "data": {
      "text/plain": [
       "(array([  2.,   3.,   6.,  24.,  86., 193., 369., 416., 290.,  63.]),\n",
       " array([2.89037176, 3.40845644, 3.92654111, 4.44462579, 4.96271047,\n",
       "        5.48079515, 5.99887983, 6.51696451, 7.03504918, 7.55313386,\n",
       "        8.07121854]),\n",
       " <BarContainer object of 10 artists>)"
      ]
     },
     "execution_count": 33,
     "metadata": {},
     "output_type": "execute_result"
    },
    {
     "data": {
      "image/png": "[encoded data removed]",
      "text/plain": [
       "<Figure size 432x288 with 1 Axes>"
      ]
     },
     "metadata": {
      "needs_background": "light"
     },
     "output_type": "display_data"
    }
   ],
   "source": [
    "plt.hist(np.log(trips['trip_duration']))\n",
    "plt.show()"
   ]
  },
  {
   "cell_type": "markdown",
   "metadata": {
    "id": "1FaMTnXvF4bF"
   },
   "source": [
    "- We can clearly see that the sqrt transformation is giving nearly normal distribution, there for we can choose the sqrt transformation on the dependent(trip_duration) variable."
   ]
  },
  {
   "cell_type": "markdown",
   "metadata": {
    "id": "QmECM5u_F4bF"
   },
   "source": [
    "#### **Splitting the data into train and test**"
   ]
  },
  {
   "cell_type": "code",
   "execution_count": null,
   "metadata": {
    "ExecuteTime": {
     "end_time": "2021-07-15T12:47:30.919229Z",
     "start_time": "2021-07-15T12:47:24.754592Z"
    },
    "id": "bfuPVjn9F4bF"
   },
   "outputs": [],
   "source": [
    "# Separates the whole feature matrix into train data feature matrix,train data labels, and test data feature matrix \n",
    "X_train, y_train, X_test, y_test = get_train_test_fm(feature_matrix1,.75)\n",
    "y_train = np.sqrt(y_train)\n",
    "y_test = np.sqrt(y_test)"
   ]
  },
  {
   "cell_type": "markdown",
   "metadata": {
    "id": "J3FtMSR2F4bF"
   },
   "source": [
    "**Defining function for to check the performance of the model.**"
   ]
  },
  {
   "cell_type": "code",
   "execution_count": null,
   "metadata": {
    "id": "kf5R0U2AF4bF"
   },
   "outputs": [],
   "source": [
    "# RMSE\n",
    "def rmse(predictions, targets):\n",
    "    return np.sqrt(((targets - predictions) ** 2).mean())\n",
    "\n",
    "# MAE\n",
    "def mae(predictions, targets):\n",
    "    return np.mean(np.abs((targets - predictions)))\n",
    "\n",
    "\n",
    "# Model Performance on test and train data\n",
    "def model_pref(model, x_train, x_test, y_train,y_test):\n",
    "\n",
    "    # Insample Prediction\n",
    "    y_pred_train = model.predict(x_train)\n",
    "    y_observed_train = y_train\n",
    "\n",
    "    # Prediction on test data\n",
    "    y_pred_test = model.predict(x_test)\n",
    "    y_observed_test = y_test\n",
    "\n",
    "    print(\n",
    "        pd.DataFrame(\n",
    "            {\n",
    "                \"Data\": [\"Train\", \"Test\"],\n",
    "                'RSquared':\n",
    "                    [r2_score(y_observed_train,y_pred_train),\n",
    "                    r2_score(y_observed_test,y_pred_test )\n",
    "                    ],\n",
    "                \"RMSE\": [\n",
    "                    rmse(y_pred_train, y_observed_train),\n",
    "                    rmse(y_pred_test, y_observed_test),\n",
    "                ],\n",
    "                \"MAE\": [\n",
    "                    mae(y_pred_train, y_observed_train),\n",
    "                    mae(y_pred_test, y_observed_test),\n",
    "                ],\n",
    "            }\n",
    "        )\n",
    "    )"
   ]
  },
  {
   "cell_type": "markdown",
   "metadata": {
    "id": "HOLVEQ6vF4bF"
   },
   "source": [
    "### **Question 4.3 Build Linear regression using only weekend transform primitive**"
   ]
  },
  {
   "cell_type": "code",
   "execution_count": null,
   "metadata": {
    "colab": {
     "base_uri": "https://localhost:8080/"
    },
    "id": "Per9TXPXF4bF",
    "outputId": "e46c4418-50ca-4928-aea5-9657907aedfc"
   },
   "outputs": [
    {
     "data": {
      "text/plain": [
       "LinearRegression()"
      ]
     },
     "execution_count": 36,
     "metadata": {},
     "output_type": "execute_result"
    }
   ],
   "source": [
    "# Defining the model\n",
    "lr1=LinearRegression()\n",
    "\n",
    "# Fitting the model\n",
    "lr1.fit(X_train,y_train)"
   ]
  },
  {
   "cell_type": "markdown",
   "metadata": {
    "id": "NCO30ZRJF4bF"
   },
   "source": [
    "#### **Check the performance of the model**"
   ]
  },
  {
   "cell_type": "code",
   "execution_count": null,
   "metadata": {
    "colab": {
     "base_uri": "https://localhost:8080/"
    },
    "id": "Af_D1AhTF4bF",
    "outputId": "f865b8b0-dd5e-46b8-ddf6-583750689367"
   },
   "outputs": [
    {
     "name": "stdout",
     "output_type": "stream",
     "text": [
      "    Data  RSquared      RMSE       MAE\n",
      "0  Train  0.662819  5.246785  4.052007\n",
      "1   Test  0.583352  5.583601  4.172844\n"
     ]
    }
   ],
   "source": [
    "model_pref(lr1, X_train, X_test,y_train,y_test)  "
   ]
  },
  {
   "cell_type": "markdown",
   "metadata": {
    "id": "WrsPKZo0F4bG"
   },
   "source": [
    "- Model is giving only 0.58 Rsquared, with RSME of 5.58 and MAE of ~4.17.\n",
    "- Model is slightly overfitting."
   ]
  },
  {
   "cell_type": "markdown",
   "metadata": {
    "id": "pVzSEpJzF4bG"
   },
   "source": [
    "### **Question 4.4 Building decision tree using only weekend transform primitive**"
   ]
  },
  {
   "cell_type": "code",
   "execution_count": null,
   "metadata": {
    "colab": {
     "base_uri": "https://localhost:8080/"
    },
    "id": "QyuRFuabF4bG",
    "outputId": "9636fcec-0d7c-4220-c68d-e53a18761d10"
   },
   "outputs": [
    {
     "data": {
      "text/plain": [
       "DecisionTreeRegressor()"
      ]
     },
     "execution_count": 38,
     "metadata": {},
     "output_type": "execute_result"
    }
   ],
   "source": [
    "dt=DecisionTreeRegressor()\n",
    "\n",
    "dt.fit(X_train,y_train)"
   ]
  },
  {
   "cell_type": "markdown",
   "metadata": {
    "id": "xcATIbmjF4bG"
   },
   "source": [
    "#### **Check the performance of the model**"
   ]
  },
  {
   "cell_type": "code",
   "execution_count": null,
   "metadata": {
    "colab": {
     "base_uri": "https://localhost:8080/"
    },
    "id": "wT-WmaLCF4bG",
    "outputId": "e47b65c1-e8f3-445c-d245-9039066928f6"
   },
   "outputs": [
    {
     "name": "stdout",
     "output_type": "stream",
     "text": [
      "    Data  RSquared      RMSE       MAE\n",
      "0  Train   1.00000  0.000000  0.000000\n",
      "1   Test   0.46705  6.314994  4.762781\n"
     ]
    }
   ],
   "source": [
    "model_pref(dt, X_train, X_test,y_train,y_test)  "
   ]
  },
  {
   "cell_type": "markdown",
   "metadata": {
    "id": "QFg3ehIFF4bG"
   },
   "source": [
    "- The model is overfitting a lot, with train R2 as 1 while test R2 as 0.46\n",
    "- This generally happens in decision tree, one solution for this is to Prune the decision tree, let's try pruning and see if the performance improves. "
   ]
  },
  {
   "cell_type": "markdown",
   "metadata": {
    "id": "yJw8amFqF4bG"
   },
   "source": [
    "### **Question 4.5 Building Pruned decision tree using only weekend transform primitive**"
   ]
  },
  {
   "cell_type": "code",
   "execution_count": null,
   "metadata": {
    "colab": {
     "base_uri": "https://localhost:8080/"
    },
    "id": "pB4hibI_F4bG",
    "outputId": "da0f790c-831c-468c-a4a7-a30ecbd2f221"
   },
   "outputs": [
    {
     "data": {
      "text/plain": [
       "DecisionTreeRegressor(max_depth=3)"
      ]
     },
     "execution_count": 40,
     "metadata": {},
     "output_type": "execute_result"
    }
   ],
   "source": [
    "dt_pruned=DecisionTreeRegressor(max_depth=3)\n",
    "\n",
    "dt_pruned.fit(X_train,y_train)"
   ]
  },
  {
   "cell_type": "markdown",
   "metadata": {
    "id": "TKpAPeL3F4bG"
   },
   "source": [
    "#### **Check the performance of the model**"
   ]
  },
  {
   "cell_type": "code",
   "execution_count": null,
   "metadata": {
    "colab": {
     "base_uri": "https://localhost:8080/"
    },
    "id": "IQ6QCbMsF4bG",
    "outputId": "3266a5ae-a95e-45bd-940d-b89373c38784"
   },
   "outputs": [
    {
     "name": "stdout",
     "output_type": "stream",
     "text": [
      "    Data  RSquared      RMSE       MAE\n",
      "0  Train  0.748675  4.529805  3.404459\n",
      "1   Test  0.681276  4.883566  3.780489\n"
     ]
    }
   ],
   "source": [
    "model_pref(dt_pruned, X_train, X_test,y_train,y_test)  "
   ]
  },
  {
   "cell_type": "markdown",
   "metadata": {
    "id": "RryiUfhWF4bG"
   },
   "source": [
    "- The pruned model is performing better that both baseline decision tree and linear regression, with R2 as ~.68."
   ]
  },
  {
   "cell_type": "markdown",
   "metadata": {
    "id": "TvO7fVGjF4bH"
   },
   "source": [
    "### **Question 4.6 Building Random Forest using only weekend transform primitive**"
   ]
  },
  {
   "cell_type": "code",
   "execution_count": null,
   "metadata": {
    "id": "lX7llB3DF4bH"
   },
   "outputs": [],
   "source": [
    "rf=RandomForestRegressor(n_estimators=60,max_depth=4)"
   ]
  },
  {
   "cell_type": "code",
   "execution_count": null,
   "metadata": {
    "colab": {
     "base_uri": "https://localhost:8080/"
    },
    "id": "-wKKqYyYF4bH",
    "outputId": "82dab771-8434-41f8-a57c-da2e856adcb1"
   },
   "outputs": [
    {
     "data": {
      "text/plain": [
       "RandomForestRegressor(max_depth=4, n_estimators=60)"
      ]
     },
     "execution_count": 43,
     "metadata": {},
     "output_type": "execute_result"
    }
   ],
   "source": [
    "rf.fit(X_train,y_train)"
   ]
  },
  {
   "cell_type": "markdown",
   "metadata": {
    "id": "hWJJspmaF4bH"
   },
   "source": [
    "#### **Check the performance of the model**"
   ]
  },
  {
   "cell_type": "code",
   "execution_count": null,
   "metadata": {
    "colab": {
     "base_uri": "https://localhost:8080/"
    },
    "id": "7hxhJVJlF4bH",
    "outputId": "91d4548a-e138-4339-a1ef-98a8f76fd0a2",
    "scrolled": true
   },
   "outputs": [
    {
     "name": "stdout",
     "output_type": "stream",
     "text": [
      "    Data  RSquared      RMSE       MAE\n",
      "0  Train  0.812416  3.913446  2.901950\n",
      "1   Test  0.729709  4.497231  3.554802\n"
     ]
    }
   ],
   "source": [
    "model_pref(rf, X_train, X_test,y_train,y_test)"
   ]
  },
  {
   "cell_type": "markdown",
   "metadata": {
    "id": "640IwF6VF4bH"
   },
   "source": [
    "- The score for the model with only 1 transform primitive is ~73%. \n",
    "- This model is performing little better than pruned decision tree model.\n",
    "- Model is slightly overfitting."
   ]
  },
  {
   "cell_type": "markdown",
   "metadata": {
    "id": "thfsyR-RF4bH"
   },
   "source": [
    "### **Step 4: Adding more Transform Primitives and creating new model**\n",
    "\n",
    "* Add ``Minute``, ``Hour``, ``Month``, ``Weekday`` , etc primitives\n",
    "* All these transform primitives apply to ``datetime`` columns\n",
    "\n",
    "## **Question 5: Create models with more transform primitives (10 Marks)**"
   ]
  },
  {
   "cell_type": "code",
   "execution_count": null,
   "metadata": {
    "ExecuteTime": {
     "end_time": "2021-07-15T12:51:54.063760Z",
     "start_time": "2021-07-15T12:51:51.694558Z"
    },
    "id": "FiUB0gDkF4bH"
   },
   "outputs": [],
   "source": [
    "trans_primitives = [Minute, Hour, Day, Month, Weekday, IsWeekend]\n",
    "\n",
    "features = ft.dfs(entities=entities,\n",
    "                  relationships=relationships,\n",
    "                  target_entity=\"trips\",\n",
    "                  trans_primitives=trans_primitives,\n",
    "                  agg_primitives=[],\n",
    "                  ignore_variables={\"trips\": [\"pickup_latitude\", \"pickup_longitude\",\n",
    "                                              \"dropoff_latitude\", \"dropoff_longitude\"]},\n",
    "                  features_only=True)"
   ]
  },
  {
   "cell_type": "markdown",
   "metadata": {
    "id": "GmrqGR3i6Guj"
   },
   "source": [
    "### **Question 5.1 Define more transform primitives and define features using dfs?**"
   ]
  },
  {
   "cell_type": "code",
   "execution_count": null,
   "metadata": {
    "ExecuteTime": {
     "end_time": "2021-07-15T12:52:31.456696Z",
     "start_time": "2021-07-15T12:52:31.362945Z"
    },
    "colab": {
     "base_uri": "https://localhost:8080/"
    },
    "id": "9WZXcjCUF4bH",
    "outputId": "cedc202d-a1a5-4b5b-dbc1-e2f3652d0898"
   },
   "outputs": [
    {
     "name": "stdout",
     "output_type": "stream",
     "text": [
      "Number of features: 17\n"
     ]
    },
    {
     "data": {
      "text/plain": [
       "[<Feature: Transport_service>,\n",
       " <Feature: passenger_count>,\n",
       " <Feature: trip_distance>,\n",
       " <Feature: payment_type>,\n",
       " <Feature: trip_duration>,\n",
       " <Feature: pickup_neighborhood>,\n",
       " <Feature: dropoff_neighborhood>,\n",
       " <Feature: DAY(pickup_datetime)>,\n",
       " <Feature: HOUR(pickup_datetime)>,\n",
       " <Feature: IS_WEEKEND(pickup_datetime)>,\n",
       " <Feature: MINUTE(pickup_datetime)>,\n",
       " <Feature: MONTH(pickup_datetime)>,\n",
       " <Feature: WEEKDAY(pickup_datetime)>,\n",
       " <Feature: pickup_neighborhoods.latitude>,\n",
       " <Feature: pickup_neighborhoods.longitude>,\n",
       " <Feature: dropoff_neighborhoods.latitude>,\n",
       " <Feature: dropoff_neighborhoods.longitude>]"
      ]
     },
     "execution_count": 46,
     "metadata": {},
     "output_type": "execute_result"
    }
   ],
   "source": [
    "print (\"Number of features: %d\" % len(features))\n",
    "features"
   ]
  },
  {
   "cell_type": "markdown",
   "metadata": {
    "id": "lVyNvPHBF4bI"
   },
   "source": [
    "Now let's compute the features. "
   ]
  },
  {
   "cell_type": "markdown",
   "metadata": {
    "id": "NNk_smdZF4bI"
   },
   "source": [
    "### **Question 5.2 Compute features and define feature matrix**"
   ]
  },
  {
   "cell_type": "code",
   "execution_count": null,
   "metadata": {
    "ExecuteTime": {
     "end_time": "2021-07-15T12:52:48.471903Z",
     "start_time": "2021-07-15T12:52:34.218475Z"
    },
    "colab": {
     "base_uri": "https://localhost:8080/"
    },
    "id": "9CGs9CrMF4bI",
    "outputId": "df258fd6-c0b6-4028-e28f-1d40352b7022"
   },
   "outputs": [
    {
     "name": "stdout",
     "output_type": "stream",
     "text": [
      "Elapsed: 00:00 | Progress: 100%|███████████████████████████████████████████████████████████████████████████████████████\n",
      "Finishing computing...\n"
     ]
    }
   ],
   "source": [
    "feature_matrix2 = compute_features(features, cutoff_time)"
   ]
  },
  {
   "cell_type": "code",
   "execution_count": null,
   "metadata": {
    "ExecuteTime": {
     "end_time": "2021-07-15T12:52:50.630760Z",
     "start_time": "2021-07-15T12:52:50.137051Z"
    },
    "colab": {
     "base_uri": "https://localhost:8080/"
    },
    "id": "-T5W3Xq6F4bI",
    "outputId": "21209126-ed24-47cf-cb7d-075509c49136"
   },
   "outputs": [
    {
     "data": {
      "text/plain": [
       "(1452, 35)"
      ]
     },
     "execution_count": 48,
     "metadata": {},
     "output_type": "execute_result"
    }
   ],
   "source": [
    "feature_matrix2.shape"
   ]
  },
  {
   "cell_type": "code",
   "execution_count": null,
   "metadata": {
    "colab": {
     "base_uri": "https://localhost:8080/",
     "height": 275
    },
    "id": "m_ZhWmOCF4bI",
    "outputId": "af90da0f-c8a7-4757-9258-6220a731b2ef"
   },
   "outputs": [
    {
     "data": {
      "text/html": [
       "<div>\n",
       "<style scoped>\n",
       "    .dataframe tbody tr th:only-of-type {\n",
       "        vertical-align: middle;\n",
       "    }\n",
       "\n",
       "    .dataframe tbody tr th {\n",
       "        vertical-align: top;\n",
       "    }\n",
       "\n",
       "    .dataframe thead th {\n",
       "        text-align: right;\n",
       "    }\n",
       "</style>\n",
       "<table border=\"1\" class=\"dataframe\">\n",
       "  <thead>\n",
       "    <tr style=\"text-align: right;\">\n",
       "      <th></th>\n",
       "      <th>pickup_neighborhoods.latitude</th>\n",
       "      <th>payment_type</th>\n",
       "      <th>WEEKDAY(pickup_datetime)</th>\n",
       "      <th>Transport_service</th>\n",
       "      <th>MONTH(pickup_datetime)</th>\n",
       "      <th>dropoff_neighborhoods.longitude</th>\n",
       "      <th>pickup_neighborhoods.longitude</th>\n",
       "      <th>HOUR(pickup_datetime)</th>\n",
       "      <th>pickup_neighborhood = AD</th>\n",
       "      <th>pickup_neighborhood = AR</th>\n",
       "      <th>...</th>\n",
       "      <th>dropoff_neighborhood = C</th>\n",
       "      <th>dropoff_neighborhood = W</th>\n",
       "      <th>dropoff_neighborhood = AD</th>\n",
       "      <th>dropoff_neighborhood = Z</th>\n",
       "      <th>dropoff_neighborhood = P</th>\n",
       "      <th>dropoff_neighborhood = I</th>\n",
       "      <th>dropoff_neighborhood = N</th>\n",
       "      <th>dropoff_neighborhoods.latitude</th>\n",
       "      <th>trip_distance</th>\n",
       "      <th>MINUTE(pickup_datetime)</th>\n",
       "    </tr>\n",
       "    <tr>\n",
       "      <th>id</th>\n",
       "      <th></th>\n",
       "      <th></th>\n",
       "      <th></th>\n",
       "      <th></th>\n",
       "      <th></th>\n",
       "      <th></th>\n",
       "      <th></th>\n",
       "      <th></th>\n",
       "      <th></th>\n",
       "      <th></th>\n",
       "      <th></th>\n",
       "      <th></th>\n",
       "      <th></th>\n",
       "      <th></th>\n",
       "      <th></th>\n",
       "      <th></th>\n",
       "      <th></th>\n",
       "      <th></th>\n",
       "      <th></th>\n",
       "      <th></th>\n",
       "      <th></th>\n",
       "    </tr>\n",
       "  </thead>\n",
       "  <tbody>\n",
       "    <tr>\n",
       "      <th>0</th>\n",
       "      <td>40.804349</td>\n",
       "      <td>3</td>\n",
       "      <td>1</td>\n",
       "      <td>3</td>\n",
       "      <td>1</td>\n",
       "      <td>-73.953145</td>\n",
       "      <td>-73.961716</td>\n",
       "      <td>0</td>\n",
       "      <td>False</td>\n",
       "      <td>False</td>\n",
       "      <td>...</td>\n",
       "      <td>True</td>\n",
       "      <td>False</td>\n",
       "      <td>False</td>\n",
       "      <td>False</td>\n",
       "      <td>False</td>\n",
       "      <td>False</td>\n",
       "      <td>False</td>\n",
       "      <td>40.783780</td>\n",
       "      <td>1.32</td>\n",
       "      <td>0</td>\n",
       "    </tr>\n",
       "    <tr>\n",
       "      <th>1</th>\n",
       "      <td>40.715828</td>\n",
       "      <td>3</td>\n",
       "      <td>1</td>\n",
       "      <td>1</td>\n",
       "      <td>1</td>\n",
       "      <td>-73.934381</td>\n",
       "      <td>-73.954298</td>\n",
       "      <td>0</td>\n",
       "      <td>False</td>\n",
       "      <td>False</td>\n",
       "      <td>...</td>\n",
       "      <td>False</td>\n",
       "      <td>False</td>\n",
       "      <td>False</td>\n",
       "      <td>False</td>\n",
       "      <td>False</td>\n",
       "      <td>False</td>\n",
       "      <td>False</td>\n",
       "      <td>40.836792</td>\n",
       "      <td>13.70</td>\n",
       "      <td>1</td>\n",
       "    </tr>\n",
       "    <tr>\n",
       "      <th>2</th>\n",
       "      <td>40.750179</td>\n",
       "      <td>1</td>\n",
       "      <td>1</td>\n",
       "      <td>4</td>\n",
       "      <td>1</td>\n",
       "      <td>-73.948046</td>\n",
       "      <td>-73.992557</td>\n",
       "      <td>0</td>\n",
       "      <td>False</td>\n",
       "      <td>False</td>\n",
       "      <td>...</td>\n",
       "      <td>False</td>\n",
       "      <td>False</td>\n",
       "      <td>False</td>\n",
       "      <td>False</td>\n",
       "      <td>False</td>\n",
       "      <td>False</td>\n",
       "      <td>False</td>\n",
       "      <td>40.818445</td>\n",
       "      <td>5.30</td>\n",
       "      <td>1</td>\n",
       "    </tr>\n",
       "    <tr>\n",
       "      <th>3</th>\n",
       "      <td>40.729670</td>\n",
       "      <td>2</td>\n",
       "      <td>1</td>\n",
       "      <td>2</td>\n",
       "      <td>1</td>\n",
       "      <td>-73.940427</td>\n",
       "      <td>-73.981693</td>\n",
       "      <td>0</td>\n",
       "      <td>False</td>\n",
       "      <td>False</td>\n",
       "      <td>...</td>\n",
       "      <td>False</td>\n",
       "      <td>False</td>\n",
       "      <td>False</td>\n",
       "      <td>False</td>\n",
       "      <td>False</td>\n",
       "      <td>False</td>\n",
       "      <td>False</td>\n",
       "      <td>40.799573</td>\n",
       "      <td>7.19</td>\n",
       "      <td>1</td>\n",
       "    </tr>\n",
       "    <tr>\n",
       "      <th>4</th>\n",
       "      <td>40.749843</td>\n",
       "      <td>1</td>\n",
       "      <td>1</td>\n",
       "      <td>1</td>\n",
       "      <td>1</td>\n",
       "      <td>-73.982322</td>\n",
       "      <td>-74.003458</td>\n",
       "      <td>0</td>\n",
       "      <td>False</td>\n",
       "      <td>False</td>\n",
       "      <td>...</td>\n",
       "      <td>False</td>\n",
       "      <td>False</td>\n",
       "      <td>False</td>\n",
       "      <td>False</td>\n",
       "      <td>False</td>\n",
       "      <td>False</td>\n",
       "      <td>False</td>\n",
       "      <td>40.776270</td>\n",
       "      <td>2.90</td>\n",
       "      <td>2</td>\n",
       "    </tr>\n",
       "  </tbody>\n",
       "</table>\n",
       "<p>5 rows × 35 columns</p>\n",
       "</div>"
      ],
      "text/plain": [
       "    pickup_neighborhoods.latitude payment_type  WEEKDAY(pickup_datetime)  \\\n",
       "id                                                                         \n",
       "0                       40.804349            3                         1   \n",
       "1                       40.715828            3                         1   \n",
       "2                       40.750179            1                         1   \n",
       "3                       40.729670            2                         1   \n",
       "4                       40.749843            1                         1   \n",
       "\n",
       "    Transport_service  MONTH(pickup_datetime)  \\\n",
       "id                                              \n",
       "0                   3                       1   \n",
       "1                   1                       1   \n",
       "2                   4                       1   \n",
       "3                   2                       1   \n",
       "4                   1                       1   \n",
       "\n",
       "    dropoff_neighborhoods.longitude  pickup_neighborhoods.longitude  \\\n",
       "id                                                                    \n",
       "0                        -73.953145                      -73.961716   \n",
       "1                        -73.934381                      -73.954298   \n",
       "2                        -73.948046                      -73.992557   \n",
       "3                        -73.940427                      -73.981693   \n",
       "4                        -73.982322                      -74.003458   \n",
       "\n",
       "    HOUR(pickup_datetime)  pickup_neighborhood = AD  pickup_neighborhood = AR  \\\n",
       "id                                                                              \n",
       "0                       0                     False                     False   \n",
       "1                       0                     False                     False   \n",
       "2                       0                     False                     False   \n",
       "3                       0                     False                     False   \n",
       "4                       0                     False                     False   \n",
       "\n",
       "    ...  dropoff_neighborhood = C  dropoff_neighborhood = W  \\\n",
       "id  ...                                                       \n",
       "0   ...                      True                     False   \n",
       "1   ...                     False                     False   \n",
       "2   ...                     False                     False   \n",
       "3   ...                     False                     False   \n",
       "4   ...                     False                     False   \n",
       "\n",
       "    dropoff_neighborhood = AD  dropoff_neighborhood = Z  \\\n",
       "id                                                        \n",
       "0                       False                     False   \n",
       "1                       False                     False   \n",
       "2                       False                     False   \n",
       "3                       False                     False   \n",
       "4                       False                     False   \n",
       "\n",
       "    dropoff_neighborhood = P  dropoff_neighborhood = I  \\\n",
       "id                                                       \n",
       "0                      False                     False   \n",
       "1                      False                     False   \n",
       "2                      False                     False   \n",
       "3                      False                     False   \n",
       "4                      False                     False   \n",
       "\n",
       "    dropoff_neighborhood = N  dropoff_neighborhoods.latitude  trip_distance  \\\n",
       "id                                                                            \n",
       "0                      False                       40.783780           1.32   \n",
       "1                      False                       40.836792          13.70   \n",
       "2                      False                       40.818445           5.30   \n",
       "3                      False                       40.799573           7.19   \n",
       "4                      False                       40.776270           2.90   \n",
       "\n",
       "    MINUTE(pickup_datetime)  \n",
       "id                           \n",
       "0                         0  \n",
       "1                         1  \n",
       "2                         1  \n",
       "3                         1  \n",
       "4                         2  \n",
       "\n",
       "[5 rows x 35 columns]"
      ]
     },
     "execution_count": 49,
     "metadata": {},
     "output_type": "execute_result"
    }
   ],
   "source": [
    "feature_matrix2.head()"
   ]
  },
  {
   "cell_type": "markdown",
   "metadata": {
    "id": "kkUspPrdF4bI"
   },
   "source": [
    "**Build the new models more transform features**"
   ]
  },
  {
   "cell_type": "code",
   "execution_count": null,
   "metadata": {
    "ExecuteTime": {
     "end_time": "2021-07-15T12:55:38.459145Z",
     "start_time": "2021-07-15T12:55:32.592515Z"
    },
    "id": "v8BufyQRF4bI"
   },
   "outputs": [],
   "source": [
    "# Separates the whole feature matrix into train data feature matrix,train data labels, and test data feature matrix \n",
    "X_train2, y_train2, X_test2, y_test2 = get_train_test_fm(feature_matrix2,.75)\n",
    "y_train2 = np.sqrt(y_train2)\n",
    "y_test2 = np.sqrt(y_test2)"
   ]
  },
  {
   "cell_type": "markdown",
   "metadata": {
    "id": "cAGjrv6TF4bI"
   },
   "source": [
    "### **Question 5.3 Building Linear regression using more transform primitive**"
   ]
  },
  {
   "cell_type": "code",
   "execution_count": null,
   "metadata": {
    "colab": {
     "base_uri": "https://localhost:8080/"
    },
    "id": "p4_ULMzmF4bI",
    "outputId": "91cc75a2-2a73-404f-f118-e3bb54b06a33"
   },
   "outputs": [
    {
     "data": {
      "text/plain": [
       "LinearRegression()"
      ]
     },
     "execution_count": 51,
     "metadata": {},
     "output_type": "execute_result"
    }
   ],
   "source": [
    "lr2=LinearRegression()\n",
    "\n",
    "lr2.fit(X_train2,y_train2)"
   ]
  },
  {
   "cell_type": "markdown",
   "metadata": {
    "id": "CxcbUK1yF4bJ"
   },
   "source": [
    "#### **Check the performance of the model**"
   ]
  },
  {
   "cell_type": "code",
   "execution_count": null,
   "metadata": {
    "colab": {
     "base_uri": "https://localhost:8080/"
    },
    "id": "1PE44F6KF4bJ",
    "outputId": "e4d4e79b-6b2c-4179-95de-1a5b73c08d1f"
   },
   "outputs": [
    {
     "name": "stdout",
     "output_type": "stream",
     "text": [
      "    Data  RSquared      RMSE       MAE\n",
      "0  Train  0.663515  5.241371  4.060878\n",
      "1   Test  0.602172  5.456041  4.065442\n"
     ]
    }
   ],
   "source": [
    "model_pref(lr2, X_train2, X_test2,y_train2,y_test2)  "
   ]
  },
  {
   "cell_type": "markdown",
   "metadata": {
    "id": "YZ-1_fhNF4bJ"
   },
   "source": [
    "- Model is giving 0.60 Rsquared, with RSME of 5.45 and MAE of ~4.06.\n",
    "- Model performance has not improved much from the last model by adding more transform primitives\n",
    "- Model is not overfitting, and giving generalized results."
   ]
  },
  {
   "cell_type": "markdown",
   "metadata": {
    "id": "wsNloBrNF4bJ"
   },
   "source": [
    "### **Question 5.4 Building Decision tree using more transform primitive**"
   ]
  },
  {
   "cell_type": "code",
   "execution_count": null,
   "metadata": {
    "colab": {
     "base_uri": "https://localhost:8080/"
    },
    "id": "V2FbO3jNF4bJ",
    "outputId": "30ba5299-eebc-433d-ef67-20b2c749e842"
   },
   "outputs": [
    {
     "data": {
      "text/plain": [
       "DecisionTreeRegressor()"
      ]
     },
     "execution_count": 53,
     "metadata": {},
     "output_type": "execute_result"
    }
   ],
   "source": [
    "dt2=DecisionTreeRegressor()\n",
    "\n",
    "dt2.fit(X_train2,y_train2)"
   ]
  },
  {
   "cell_type": "markdown",
   "metadata": {
    "id": "lydPQZWmF4bJ"
   },
   "source": [
    "#### **Check the performance of the model**"
   ]
  },
  {
   "cell_type": "code",
   "execution_count": null,
   "metadata": {
    "colab": {
     "base_uri": "https://localhost:8080/"
    },
    "id": "1f2En2gvF4bJ",
    "outputId": "a60e98ad-6b4c-48d4-f5bc-7146fd949b4b"
   },
   "outputs": [
    {
     "name": "stdout",
     "output_type": "stream",
     "text": [
      "    Data  RSquared    RMSE       MAE\n",
      "0  Train  1.000000  0.0000  0.000000\n",
      "1   Test  0.468853  6.3043  4.640568\n"
     ]
    }
   ],
   "source": [
    "model_pref(dt2, X_train2, X_test2,y_train2,y_test2)  "
   ]
  },
  {
   "cell_type": "markdown",
   "metadata": {
    "id": "9YbiZy3hF4bJ"
   },
   "source": [
    "- The model is overfitting a lot, with train R2 as 1 while test R2 as 0.46.\n",
    "- This generally happens in decision tree, one solution for this is to Prune the decision tree, let's try pruning and see if the performance improves. "
   ]
  },
  {
   "cell_type": "markdown",
   "metadata": {
    "id": "VTp50c8CF4bJ"
   },
   "source": [
    "### **Question 5.5 Building Pruned Decision tree using more transform primitive**"
   ]
  },
  {
   "cell_type": "code",
   "execution_count": null,
   "metadata": {
    "colab": {
     "base_uri": "https://localhost:8080/"
    },
    "id": "U7ipsj4TF4bJ",
    "outputId": "8c57954b-6990-4043-9666-9d532599ae98"
   },
   "outputs": [
    {
     "data": {
      "text/plain": [
       "DecisionTreeRegressor(max_depth=4)"
      ]
     },
     "execution_count": 55,
     "metadata": {},
     "output_type": "execute_result"
    }
   ],
   "source": [
    "dt_pruned2=DecisionTreeRegressor(max_depth=4)\n",
    "\n",
    "dt_pruned2.fit(X_train2,y_train2)"
   ]
  },
  {
   "cell_type": "markdown",
   "metadata": {
    "id": "YfKx-eKCF4bK"
   },
   "source": [
    "#### **Check the performance of the model**"
   ]
  },
  {
   "cell_type": "code",
   "execution_count": null,
   "metadata": {
    "colab": {
     "base_uri": "https://localhost:8080/"
    },
    "id": "ae6ZOjoCF4bK",
    "outputId": "05577144-2c8d-462d-9af2-3f324ab86559"
   },
   "outputs": [
    {
     "name": "stdout",
     "output_type": "stream",
     "text": [
      "    Data  RSquared      RMSE       MAE\n",
      "0  Train  0.782259  4.216308  3.142310\n",
      "1   Test  0.707492  4.678412  3.642763\n"
     ]
    }
   ],
   "source": [
    "model_pref(dt_pruned2, X_train2, X_test2,y_train2,y_test2)  "
   ]
  },
  {
   "cell_type": "markdown",
   "metadata": {
    "id": "qayieq4GF4bK"
   },
   "source": [
    "- Model is giving ~0.70 Rsquared, with RSME of 4.67 and MAE of ~3.64.\n",
    "- Model performance has improved by adding more transform features. \n",
    "- Model is slightly overfitting."
   ]
  },
  {
   "cell_type": "markdown",
   "metadata": {
    "id": "8SwDixUkF4bK"
   },
   "source": [
    "### **Question 5.6 Building Random Forest using more transform primitive**"
   ]
  },
  {
   "cell_type": "code",
   "execution_count": null,
   "metadata": {
    "colab": {
     "base_uri": "https://localhost:8080/"
    },
    "id": "Nhppean-F4bK",
    "outputId": "e64d795d-2872-4821-da58-3ecd70699279"
   },
   "outputs": [
    {
     "data": {
      "text/plain": [
       "RandomForestRegressor(max_depth=4, n_estimators=60)"
      ]
     },
     "execution_count": 57,
     "metadata": {},
     "output_type": "execute_result"
    }
   ],
   "source": [
    "rf2=RandomForestRegressor(n_estimators=60,max_depth=4)\n",
    "\n",
    "rf2.fit(X_train2,y_train2)"
   ]
  },
  {
   "cell_type": "markdown",
   "metadata": {
    "id": "p3PViEybF4bK"
   },
   "source": [
    "#### Check the performance of the model"
   ]
  },
  {
   "cell_type": "code",
   "execution_count": null,
   "metadata": {
    "colab": {
     "base_uri": "https://localhost:8080/"
    },
    "id": "CDNXph_jF4bK",
    "outputId": "6452f729-4fd7-4044-f31f-5829e5a36a90"
   },
   "outputs": [
    {
     "name": "stdout",
     "output_type": "stream",
     "text": [
      "    Data  RSquared      RMSE       MAE\n",
      "0  Train  0.812137  3.916362  2.894513\n",
      "1   Test  0.742860  4.386460  3.484555\n"
     ]
    }
   ],
   "source": [
    "model_pref(rf2, X_train2, X_test2,y_train2,y_test2)  "
   ]
  },
  {
   "cell_type": "markdown",
   "metadata": {
    "id": "O_E33djQF4bL"
   },
   "source": [
    "- The score for the model with more transform primitive is ~74%. \n",
    "- As compared to previous model, the score has improved significantly."
   ]
  },
  {
   "cell_type": "markdown",
   "metadata": {
    "id": "aeZQoF5SF4bM"
   },
   "source": [
    "### **Step 5: Add Aggregation Primitives**\n",
    "\n",
    "Now let's add aggregation primitives. These primitives will generate features for the parent entities ``pickup_neighborhoods``, and ``dropoff_neighborhood`` and then add them to the trips entity, which is the entity for which we are trying to make prediction."
   ]
  },
  {
   "cell_type": "markdown",
   "metadata": {
    "id": "czwCtnRXF4bM"
   },
   "source": [
    "## **Question 6: Create a Models with transform and aggregate primitive. (10 Marks)**\n"
   ]
  },
  {
   "cell_type": "markdown",
   "metadata": {
    "id": "Dojgg8ge7J6u"
   },
   "source": [
    "###**6.1 Define more transform and aggregate primitive and define features using dfs?**"
   ]
  },
  {
   "cell_type": "code",
   "execution_count": null,
   "metadata": {
    "ExecuteTime": {
     "end_time": "2021-07-15T12:59:43.977607Z",
     "start_time": "2021-07-15T12:59:41.353328Z"
    },
    "id": "59RYFnGLF4bM"
   },
   "outputs": [],
   "source": [
    "trans_primitives = [Minute, Hour, Day, Month, Weekday, IsWeekend]\n",
    "aggregation_primitives = [Count, Sum, Mean, Median, Std, Max, Min]\n",
    "\n",
    "features = ft.dfs(entities=entities,\n",
    "                  relationships=relationships,\n",
    "                  target_entity=\"trips\",\n",
    "                  trans_primitives=trans_primitives,\n",
    "                  agg_primitives=aggregation_primitives,\n",
    "                  ignore_variables={\"trips\": [\"pickup_latitude\", \"pickup_longitude\",\n",
    "                                              \"dropoff_latitude\", \"dropoff_longitude\"]},\n",
    "                  features_only=True)"
   ]
  },
  {
   "cell_type": "code",
   "execution_count": null,
   "metadata": {
    "ExecuteTime": {
     "end_time": "2021-07-15T12:59:45.888070Z",
     "start_time": "2021-07-15T12:59:45.782499Z"
    },
    "colab": {
     "base_uri": "https://localhost:8080/"
    },
    "id": "CPx--wMSF4bM",
    "outputId": "27af71e3-c695-40d2-a0a8-10f3c4accb7e",
    "scrolled": false
   },
   "outputs": [
    {
     "name": "stdout",
     "output_type": "stream",
     "text": [
      "Number of features: 67\n"
     ]
    },
    {
     "data": {
      "text/plain": [
       "[<Feature: Transport_service>,\n",
       " <Feature: passenger_count>,\n",
       " <Feature: trip_distance>,\n",
       " <Feature: payment_type>,\n",
       " <Feature: trip_duration>,\n",
       " <Feature: pickup_neighborhood>,\n",
       " <Feature: dropoff_neighborhood>,\n",
       " <Feature: DAY(pickup_datetime)>,\n",
       " <Feature: HOUR(pickup_datetime)>,\n",
       " <Feature: IS_WEEKEND(pickup_datetime)>,\n",
       " <Feature: MINUTE(pickup_datetime)>,\n",
       " <Feature: MONTH(pickup_datetime)>,\n",
       " <Feature: WEEKDAY(pickup_datetime)>,\n",
       " <Feature: pickup_neighborhoods.latitude>,\n",
       " <Feature: pickup_neighborhoods.longitude>,\n",
       " <Feature: dropoff_neighborhoods.latitude>,\n",
       " <Feature: dropoff_neighborhoods.longitude>,\n",
       " <Feature: pickup_neighborhoods.COUNT(trips)>,\n",
       " <Feature: pickup_neighborhoods.MAX(trips.Transport_service)>,\n",
       " <Feature: pickup_neighborhoods.MAX(trips.passenger_count)>,\n",
       " <Feature: pickup_neighborhoods.MAX(trips.trip_distance)>,\n",
       " <Feature: pickup_neighborhoods.MAX(trips.trip_duration)>,\n",
       " <Feature: pickup_neighborhoods.MEAN(trips.Transport_service)>,\n",
       " <Feature: pickup_neighborhoods.MEAN(trips.passenger_count)>,\n",
       " <Feature: pickup_neighborhoods.MEAN(trips.trip_distance)>,\n",
       " <Feature: pickup_neighborhoods.MEAN(trips.trip_duration)>,\n",
       " <Feature: pickup_neighborhoods.MEDIAN(trips.Transport_service)>,\n",
       " <Feature: pickup_neighborhoods.MEDIAN(trips.passenger_count)>,\n",
       " <Feature: pickup_neighborhoods.MEDIAN(trips.trip_distance)>,\n",
       " <Feature: pickup_neighborhoods.MEDIAN(trips.trip_duration)>,\n",
       " <Feature: pickup_neighborhoods.MIN(trips.Transport_service)>,\n",
       " <Feature: pickup_neighborhoods.MIN(trips.passenger_count)>,\n",
       " <Feature: pickup_neighborhoods.MIN(trips.trip_distance)>,\n",
       " <Feature: pickup_neighborhoods.MIN(trips.trip_duration)>,\n",
       " <Feature: pickup_neighborhoods.STD(trips.Transport_service)>,\n",
       " <Feature: pickup_neighborhoods.STD(trips.passenger_count)>,\n",
       " <Feature: pickup_neighborhoods.STD(trips.trip_distance)>,\n",
       " <Feature: pickup_neighborhoods.STD(trips.trip_duration)>,\n",
       " <Feature: pickup_neighborhoods.SUM(trips.Transport_service)>,\n",
       " <Feature: pickup_neighborhoods.SUM(trips.passenger_count)>,\n",
       " <Feature: pickup_neighborhoods.SUM(trips.trip_distance)>,\n",
       " <Feature: pickup_neighborhoods.SUM(trips.trip_duration)>,\n",
       " <Feature: dropoff_neighborhoods.COUNT(trips)>,\n",
       " <Feature: dropoff_neighborhoods.MAX(trips.Transport_service)>,\n",
       " <Feature: dropoff_neighborhoods.MAX(trips.passenger_count)>,\n",
       " <Feature: dropoff_neighborhoods.MAX(trips.trip_distance)>,\n",
       " <Feature: dropoff_neighborhoods.MAX(trips.trip_duration)>,\n",
       " <Feature: dropoff_neighborhoods.MEAN(trips.Transport_service)>,\n",
       " <Feature: dropoff_neighborhoods.MEAN(trips.passenger_count)>,\n",
       " <Feature: dropoff_neighborhoods.MEAN(trips.trip_distance)>,\n",
       " <Feature: dropoff_neighborhoods.MEAN(trips.trip_duration)>,\n",
       " <Feature: dropoff_neighborhoods.MEDIAN(trips.Transport_service)>,\n",
       " <Feature: dropoff_neighborhoods.MEDIAN(trips.passenger_count)>,\n",
       " <Feature: dropoff_neighborhoods.MEDIAN(trips.trip_distance)>,\n",
       " <Feature: dropoff_neighborhoods.MEDIAN(trips.trip_duration)>,\n",
       " <Feature: dropoff_neighborhoods.MIN(trips.Transport_service)>,\n",
       " <Feature: dropoff_neighborhoods.MIN(trips.passenger_count)>,\n",
       " <Feature: dropoff_neighborhoods.MIN(trips.trip_distance)>,\n",
       " <Feature: dropoff_neighborhoods.MIN(trips.trip_duration)>,\n",
       " <Feature: dropoff_neighborhoods.STD(trips.Transport_service)>,\n",
       " <Feature: dropoff_neighborhoods.STD(trips.passenger_count)>,\n",
       " <Feature: dropoff_neighborhoods.STD(trips.trip_distance)>,\n",
       " <Feature: dropoff_neighborhoods.STD(trips.trip_duration)>,\n",
       " <Feature: dropoff_neighborhoods.SUM(trips.Transport_service)>,\n",
       " <Feature: dropoff_neighborhoods.SUM(trips.passenger_count)>,\n",
       " <Feature: dropoff_neighborhoods.SUM(trips.trip_distance)>,\n",
       " <Feature: dropoff_neighborhoods.SUM(trips.trip_duration)>]"
      ]
     },
     "execution_count": 60,
     "metadata": {},
     "output_type": "execute_result"
    }
   ],
   "source": [
    "print (\"Number of features: %d\" % len(features))\n",
    "features"
   ]
  },
  {
   "cell_type": "markdown",
   "metadata": {
    "id": "Soh7EPPFF4bM"
   },
   "source": [
    "### **Question: 6.2 Compute features and define feature matrix**"
   ]
  },
  {
   "cell_type": "code",
   "execution_count": null,
   "metadata": {
    "ExecuteTime": {
     "end_time": "2021-07-09T11:13:54.617340Z",
     "start_time": "2021-07-09T11:13:28.226824Z"
    },
    "colab": {
     "base_uri": "https://localhost:8080/"
    },
    "id": "kcYsMKlAF4bM",
    "outputId": "0b6cb9ca-869d-48b9-afc5-c307571db9d5"
   },
   "outputs": [
    {
     "name": "stdout",
     "output_type": "stream",
     "text": [
      "Elapsed: 00:00 | Progress: 100%|███████████████████████████████████████████████████████████████████████████████████████\n",
      "Finishing computing...\n"
     ]
    }
   ],
   "source": [
    "feature_matrix3 = compute_features(features, cutoff_time)"
   ]
  },
  {
   "cell_type": "code",
   "execution_count": null,
   "metadata": {
    "ExecuteTime": {
     "end_time": "2021-07-09T11:14:02.858716Z",
     "start_time": "2021-07-09T11:14:02.439924Z"
    },
    "colab": {
     "base_uri": "https://localhost:8080/",
     "height": 304
    },
    "id": "ZzqwPwy1F4bN",
    "outputId": "05f4c307-dda5-4dca-aa4b-c9da405b75ac"
   },
   "outputs": [
    {
     "data": {
      "text/html": [
       "<div>\n",
       "<style scoped>\n",
       "    .dataframe tbody tr th:only-of-type {\n",
       "        vertical-align: middle;\n",
       "    }\n",
       "\n",
       "    .dataframe tbody tr th {\n",
       "        vertical-align: top;\n",
       "    }\n",
       "\n",
       "    .dataframe thead th {\n",
       "        text-align: right;\n",
       "    }\n",
       "</style>\n",
       "<table border=\"1\" class=\"dataframe\">\n",
       "  <thead>\n",
       "    <tr style=\"text-align: right;\">\n",
       "      <th></th>\n",
       "      <th>pickup_neighborhoods.longitude</th>\n",
       "      <th>WEEKDAY(pickup_datetime)</th>\n",
       "      <th>pickup_neighborhoods.latitude</th>\n",
       "      <th>dropoff_neighborhoods.STD(trips.trip_duration)</th>\n",
       "      <th>dropoff_neighborhoods.MEDIAN(trips.trip_distance)</th>\n",
       "      <th>pickup_neighborhoods.MEAN(trips.Transport_service)</th>\n",
       "      <th>pickup_neighborhoods.MIN(trips.trip_duration)</th>\n",
       "      <th>dropoff_neighborhoods.SUM(trips.Transport_service)</th>\n",
       "      <th>pickup_neighborhoods.MEAN(trips.passenger_count)</th>\n",
       "      <th>pickup_neighborhoods.COUNT(trips)</th>\n",
       "      <th>...</th>\n",
       "      <th>dropoff_neighborhood = N</th>\n",
       "      <th>MINUTE(pickup_datetime)</th>\n",
       "      <th>pickup_neighborhoods.MEAN(trips.trip_distance)</th>\n",
       "      <th>dropoff_neighborhoods.MAX(trips.Transport_service)</th>\n",
       "      <th>pickup_neighborhoods.MAX(trips.trip_distance)</th>\n",
       "      <th>payment_type</th>\n",
       "      <th>pickup_neighborhoods.SUM(trips.trip_distance)</th>\n",
       "      <th>dropoff_neighborhoods.MEDIAN(trips.Transport_service)</th>\n",
       "      <th>IS_WEEKEND(pickup_datetime)</th>\n",
       "      <th>pickup_neighborhoods.SUM(trips.Transport_service)</th>\n",
       "    </tr>\n",
       "    <tr>\n",
       "      <th>id</th>\n",
       "      <th></th>\n",
       "      <th></th>\n",
       "      <th></th>\n",
       "      <th></th>\n",
       "      <th></th>\n",
       "      <th></th>\n",
       "      <th></th>\n",
       "      <th></th>\n",
       "      <th></th>\n",
       "      <th></th>\n",
       "      <th></th>\n",
       "      <th></th>\n",
       "      <th></th>\n",
       "      <th></th>\n",
       "      <th></th>\n",
       "      <th></th>\n",
       "      <th></th>\n",
       "      <th></th>\n",
       "      <th></th>\n",
       "      <th></th>\n",
       "      <th></th>\n",
       "    </tr>\n",
       "  </thead>\n",
       "  <tbody>\n",
       "    <tr>\n",
       "      <th>0</th>\n",
       "      <td>-73.961716</td>\n",
       "      <td>1</td>\n",
       "      <td>40.804349</td>\n",
       "      <td>NaN</td>\n",
       "      <td>NaN</td>\n",
       "      <td>NaN</td>\n",
       "      <td>NaN</td>\n",
       "      <td>0.0</td>\n",
       "      <td>NaN</td>\n",
       "      <td>0.0</td>\n",
       "      <td>...</td>\n",
       "      <td>False</td>\n",
       "      <td>0</td>\n",
       "      <td>NaN</td>\n",
       "      <td>NaN</td>\n",
       "      <td>NaN</td>\n",
       "      <td>3</td>\n",
       "      <td>0.0</td>\n",
       "      <td>NaN</td>\n",
       "      <td>False</td>\n",
       "      <td>0.0</td>\n",
       "    </tr>\n",
       "    <tr>\n",
       "      <th>1</th>\n",
       "      <td>-73.954298</td>\n",
       "      <td>1</td>\n",
       "      <td>40.715828</td>\n",
       "      <td>NaN</td>\n",
       "      <td>NaN</td>\n",
       "      <td>NaN</td>\n",
       "      <td>NaN</td>\n",
       "      <td>0.0</td>\n",
       "      <td>NaN</td>\n",
       "      <td>0.0</td>\n",
       "      <td>...</td>\n",
       "      <td>False</td>\n",
       "      <td>1</td>\n",
       "      <td>NaN</td>\n",
       "      <td>NaN</td>\n",
       "      <td>NaN</td>\n",
       "      <td>3</td>\n",
       "      <td>0.0</td>\n",
       "      <td>NaN</td>\n",
       "      <td>False</td>\n",
       "      <td>0.0</td>\n",
       "    </tr>\n",
       "    <tr>\n",
       "      <th>2</th>\n",
       "      <td>-73.992557</td>\n",
       "      <td>1</td>\n",
       "      <td>40.750179</td>\n",
       "      <td>NaN</td>\n",
       "      <td>NaN</td>\n",
       "      <td>NaN</td>\n",
       "      <td>NaN</td>\n",
       "      <td>0.0</td>\n",
       "      <td>NaN</td>\n",
       "      <td>0.0</td>\n",
       "      <td>...</td>\n",
       "      <td>False</td>\n",
       "      <td>1</td>\n",
       "      <td>NaN</td>\n",
       "      <td>NaN</td>\n",
       "      <td>NaN</td>\n",
       "      <td>1</td>\n",
       "      <td>0.0</td>\n",
       "      <td>NaN</td>\n",
       "      <td>False</td>\n",
       "      <td>0.0</td>\n",
       "    </tr>\n",
       "    <tr>\n",
       "      <th>3</th>\n",
       "      <td>-73.981693</td>\n",
       "      <td>1</td>\n",
       "      <td>40.729670</td>\n",
       "      <td>NaN</td>\n",
       "      <td>NaN</td>\n",
       "      <td>NaN</td>\n",
       "      <td>NaN</td>\n",
       "      <td>0.0</td>\n",
       "      <td>NaN</td>\n",
       "      <td>0.0</td>\n",
       "      <td>...</td>\n",
       "      <td>False</td>\n",
       "      <td>1</td>\n",
       "      <td>NaN</td>\n",
       "      <td>NaN</td>\n",
       "      <td>NaN</td>\n",
       "      <td>2</td>\n",
       "      <td>0.0</td>\n",
       "      <td>NaN</td>\n",
       "      <td>False</td>\n",
       "      <td>0.0</td>\n",
       "    </tr>\n",
       "    <tr>\n",
       "      <th>4</th>\n",
       "      <td>-74.003458</td>\n",
       "      <td>1</td>\n",
       "      <td>40.749843</td>\n",
       "      <td>NaN</td>\n",
       "      <td>NaN</td>\n",
       "      <td>NaN</td>\n",
       "      <td>NaN</td>\n",
       "      <td>0.0</td>\n",
       "      <td>NaN</td>\n",
       "      <td>0.0</td>\n",
       "      <td>...</td>\n",
       "      <td>False</td>\n",
       "      <td>2</td>\n",
       "      <td>NaN</td>\n",
       "      <td>NaN</td>\n",
       "      <td>NaN</td>\n",
       "      <td>1</td>\n",
       "      <td>0.0</td>\n",
       "      <td>NaN</td>\n",
       "      <td>False</td>\n",
       "      <td>0.0</td>\n",
       "    </tr>\n",
       "  </tbody>\n",
       "</table>\n",
       "<p>5 rows × 85 columns</p>\n",
       "</div>"
      ],
      "text/plain": [
       "    pickup_neighborhoods.longitude  WEEKDAY(pickup_datetime)  \\\n",
       "id                                                             \n",
       "0                       -73.961716                         1   \n",
       "1                       -73.954298                         1   \n",
       "2                       -73.992557                         1   \n",
       "3                       -73.981693                         1   \n",
       "4                       -74.003458                         1   \n",
       "\n",
       "    pickup_neighborhoods.latitude  \\\n",
       "id                                  \n",
       "0                       40.804349   \n",
       "1                       40.715828   \n",
       "2                       40.750179   \n",
       "3                       40.729670   \n",
       "4                       40.749843   \n",
       "\n",
       "    dropoff_neighborhoods.STD(trips.trip_duration)  \\\n",
       "id                                                   \n",
       "0                                              NaN   \n",
       "1                                              NaN   \n",
       "2                                              NaN   \n",
       "3                                              NaN   \n",
       "4                                              NaN   \n",
       "\n",
       "    dropoff_neighborhoods.MEDIAN(trips.trip_distance)  \\\n",
       "id                                                      \n",
       "0                                                 NaN   \n",
       "1                                                 NaN   \n",
       "2                                                 NaN   \n",
       "3                                                 NaN   \n",
       "4                                                 NaN   \n",
       "\n",
       "    pickup_neighborhoods.MEAN(trips.Transport_service)  \\\n",
       "id                                                       \n",
       "0                                                 NaN    \n",
       "1                                                 NaN    \n",
       "2                                                 NaN    \n",
       "3                                                 NaN    \n",
       "4                                                 NaN    \n",
       "\n",
       "    pickup_neighborhoods.MIN(trips.trip_duration)  \\\n",
       "id                                                  \n",
       "0                                             NaN   \n",
       "1                                             NaN   \n",
       "2                                             NaN   \n",
       "3                                             NaN   \n",
       "4                                             NaN   \n",
       "\n",
       "    dropoff_neighborhoods.SUM(trips.Transport_service)  \\\n",
       "id                                                       \n",
       "0                                                 0.0    \n",
       "1                                                 0.0    \n",
       "2                                                 0.0    \n",
       "3                                                 0.0    \n",
       "4                                                 0.0    \n",
       "\n",
       "    pickup_neighborhoods.MEAN(trips.passenger_count)  \\\n",
       "id                                                     \n",
       "0                                                NaN   \n",
       "1                                                NaN   \n",
       "2                                                NaN   \n",
       "3                                                NaN   \n",
       "4                                                NaN   \n",
       "\n",
       "    pickup_neighborhoods.COUNT(trips)  ...  dropoff_neighborhood = N  \\\n",
       "id                                     ...                             \n",
       "0                                 0.0  ...                     False   \n",
       "1                                 0.0  ...                     False   \n",
       "2                                 0.0  ...                     False   \n",
       "3                                 0.0  ...                     False   \n",
       "4                                 0.0  ...                     False   \n",
       "\n",
       "    MINUTE(pickup_datetime)  pickup_neighborhoods.MEAN(trips.trip_distance)  \\\n",
       "id                                                                            \n",
       "0                         0                                             NaN   \n",
       "1                         1                                             NaN   \n",
       "2                         1                                             NaN   \n",
       "3                         1                                             NaN   \n",
       "4                         2                                             NaN   \n",
       "\n",
       "    dropoff_neighborhoods.MAX(trips.Transport_service)  \\\n",
       "id                                                       \n",
       "0                                                 NaN    \n",
       "1                                                 NaN    \n",
       "2                                                 NaN    \n",
       "3                                                 NaN    \n",
       "4                                                 NaN    \n",
       "\n",
       "    pickup_neighborhoods.MAX(trips.trip_distance)  payment_type  \\\n",
       "id                                                                \n",
       "0                                             NaN             3   \n",
       "1                                             NaN             3   \n",
       "2                                             NaN             1   \n",
       "3                                             NaN             2   \n",
       "4                                             NaN             1   \n",
       "\n",
       "    pickup_neighborhoods.SUM(trips.trip_distance)  \\\n",
       "id                                                  \n",
       "0                                             0.0   \n",
       "1                                             0.0   \n",
       "2                                             0.0   \n",
       "3                                             0.0   \n",
       "4                                             0.0   \n",
       "\n",
       "    dropoff_neighborhoods.MEDIAN(trips.Transport_service)  \\\n",
       "id                                                          \n",
       "0                                                 NaN       \n",
       "1                                                 NaN       \n",
       "2                                                 NaN       \n",
       "3                                                 NaN       \n",
       "4                                                 NaN       \n",
       "\n",
       "    IS_WEEKEND(pickup_datetime)  \\\n",
       "id                                \n",
       "0                         False   \n",
       "1                         False   \n",
       "2                         False   \n",
       "3                         False   \n",
       "4                         False   \n",
       "\n",
       "    pickup_neighborhoods.SUM(trips.Transport_service)  \n",
       "id                                                     \n",
       "0                                                 0.0  \n",
       "1                                                 0.0  \n",
       "2                                                 0.0  \n",
       "3                                                 0.0  \n",
       "4                                                 0.0  \n",
       "\n",
       "[5 rows x 85 columns]"
      ]
     },
     "execution_count": 62,
     "metadata": {},
     "output_type": "execute_result"
    }
   ],
   "source": [
    "feature_matrix3.head()"
   ]
  },
  {
   "cell_type": "markdown",
   "metadata": {
    "id": "7jxkWJcfF4bN"
   },
   "source": [
    "**Build the new models more transform and aggregate features**"
   ]
  },
  {
   "cell_type": "code",
   "execution_count": null,
   "metadata": {
    "ExecuteTime": {
     "end_time": "2021-07-09T11:14:41.627956Z",
     "start_time": "2021-07-09T11:14:07.052570Z"
    },
    "id": "fSR8CN_EF4bN"
   },
   "outputs": [],
   "source": [
    "# Separates the whole feature matrix into train data feature matrix,train data labels, and test data feature matrix \n",
    "X_train3, y_train3, X_test3, y_test3 = get_train_test_fm(feature_matrix3,.75)\n",
    "y_train3 = np.sqrt(y_train3)\n",
    "y_test3 = np.sqrt(y_test3)"
   ]
  },
  {
   "cell_type": "markdown",
   "metadata": {
    "id": "P3vx4_sLF4bN"
   },
   "source": [
    "### **Question 6.3 Building  Linear regression model with transform and aggregate primitive.**"
   ]
  },
  {
   "cell_type": "code",
   "execution_count": null,
   "metadata": {
    "colab": {
     "base_uri": "https://localhost:8080/"
    },
    "id": "WdJFrJzSF4bN",
    "outputId": "153141e6-a8ee-44ae-a5e6-0da893992d2f"
   },
   "outputs": [
    {
     "data": {
      "text/plain": [
       "LinearRegression()"
      ]
     },
     "execution_count": 64,
     "metadata": {},
     "output_type": "execute_result"
    }
   ],
   "source": [
    "lr3=LinearRegression()\n",
    "\n",
    "lr3.fit(X_train3,y_train3)"
   ]
  },
  {
   "cell_type": "markdown",
   "metadata": {
    "id": "7rCwogcb7Ylc"
   },
   "source": [
    "#### **Check the performance of the model**"
   ]
  },
  {
   "cell_type": "code",
   "execution_count": null,
   "metadata": {
    "colab": {
     "base_uri": "https://localhost:8080/"
    },
    "id": "Y_aXMqvOF4bN",
    "outputId": "5443d71b-9549-494a-8e9c-f10db3b36b32"
   },
   "outputs": [
    {
     "name": "stdout",
     "output_type": "stream",
     "text": [
      "    Data  RSquared      RMSE       MAE\n",
      "0  Train  0.663515  5.241371  4.060878\n",
      "1   Test  0.602172  5.456041  4.065442\n"
     ]
    }
   ],
   "source": [
    "model_pref(lr3, X_train3, X_test3,y_train3,y_test3)  "
   ]
  },
  {
   "cell_type": "markdown",
   "metadata": {
    "id": "aBydfQZiF4bN"
   },
   "source": [
    "- Model is giving only 0.60 Rsquared, with RSME of 5.45 and MAE of ~4.\n",
    "- Model is not overfitting, and giving generalized results. \n"
   ]
  },
  {
   "cell_type": "markdown",
   "metadata": {
    "id": "s14I67meF4bN"
   },
   "source": [
    "### **Question 6.4 Building  Decision tree with transform and aggregate primitive.**"
   ]
  },
  {
   "cell_type": "code",
   "execution_count": null,
   "metadata": {
    "colab": {
     "base_uri": "https://localhost:8080/"
    },
    "id": "7bW4PO2rF4bN",
    "outputId": "d02553cf-472f-4bf2-c2a0-449c4f015d93"
   },
   "outputs": [
    {
     "data": {
      "text/plain": [
       "DecisionTreeRegressor()"
      ]
     },
     "execution_count": 66,
     "metadata": {},
     "output_type": "execute_result"
    }
   ],
   "source": [
    "dt3=DecisionTreeRegressor()\n",
    "\n",
    "dt3.fit(X_train3,y_train3)"
   ]
  },
  {
   "cell_type": "markdown",
   "metadata": {
    "id": "odJYa-YG7e2B"
   },
   "source": [
    "#### **Check the performance of the model**"
   ]
  },
  {
   "cell_type": "code",
   "execution_count": null,
   "metadata": {
    "colab": {
     "base_uri": "https://localhost:8080/"
    },
    "id": "LhH0-LHdF4bN",
    "outputId": "9724cb2c-c786-4eb2-ea97-e403e7ae2a1b"
   },
   "outputs": [
    {
     "name": "stdout",
     "output_type": "stream",
     "text": [
      "    Data  RSquared      RMSE       MAE\n",
      "0  Train  1.000000  0.000000  0.000000\n",
      "1   Test  0.447635  6.428992  4.629704\n"
     ]
    }
   ],
   "source": [
    "model_pref(dt3, X_train3, X_test3,y_train3,y_test3)  "
   ]
  },
  {
   "cell_type": "markdown",
   "metadata": {
    "id": "PvQ-IKlAF4bN"
   },
   "source": [
    "- The model is overfitting a lot, with train R2 as 1 while test R2 as 0.44\n",
    "- This generally happens in decision tree, one solution for this is to Prune the decision tree, let's try pruning and see if the performance improves."
   ]
  },
  {
   "cell_type": "markdown",
   "metadata": {
    "id": "voQwIsOLF4bN"
   },
   "source": [
    "### **Question 6.5 Building  Pruned Decision tree with transform and aggregate primitive.**"
   ]
  },
  {
   "cell_type": "code",
   "execution_count": null,
   "metadata": {
    "colab": {
     "base_uri": "https://localhost:8080/"
    },
    "id": "DxrIaFrMF4bO",
    "outputId": "c40af67d-830e-451f-952f-47ef6e06453c"
   },
   "outputs": [
    {
     "data": {
      "text/plain": [
       "DecisionTreeRegressor(max_depth=4)"
      ]
     },
     "execution_count": 68,
     "metadata": {},
     "output_type": "execute_result"
    }
   ],
   "source": [
    "dt_pruned3=DecisionTreeRegressor(max_depth=4)\n",
    "\n",
    "dt_pruned3.fit(X_train3,y_train3)"
   ]
  },
  {
   "cell_type": "markdown",
   "metadata": {
    "id": "K9MyVK_l7jly"
   },
   "source": [
    "#### **Check the performance of the model**"
   ]
  },
  {
   "cell_type": "code",
   "execution_count": null,
   "metadata": {
    "colab": {
     "base_uri": "https://localhost:8080/"
    },
    "id": "vDmSAKYbF4bO",
    "outputId": "e0193478-13ad-45f3-ecf1-a6812dde76ee"
   },
   "outputs": [
    {
     "name": "stdout",
     "output_type": "stream",
     "text": [
      "    Data  RSquared      RMSE       MAE\n",
      "0  Train  0.782259  4.216308  3.142310\n",
      "1   Test  0.707492  4.678412  3.642763\n"
     ]
    }
   ],
   "source": [
    "model_pref(dt_pruned3, X_train3, X_test3,y_train3,y_test3)  "
   ]
  },
  {
   "cell_type": "markdown",
   "metadata": {
    "id": "GrYySD2dF4bO"
   },
   "source": [
    "- Model is giving ~0.70 Rsquared, with RSME of 4.6 and MAE of ~3.6.\n",
    "- The model performance has not improved by adding aggregate primitives.\n",
    "- Model is overfitting, and is not giving generalized results. "
   ]
  },
  {
   "cell_type": "markdown",
   "metadata": {
    "id": "BZPR8p3_F4bO"
   },
   "source": [
    "### **Question 6.6 Building  Random Forest with transform and aggregate primitive.**"
   ]
  },
  {
   "cell_type": "code",
   "execution_count": null,
   "metadata": {
    "colab": {
     "base_uri": "https://localhost:8080/"
    },
    "id": "5kRkDwShF4bO",
    "outputId": "b9e1f28d-cf8a-4cb3-e8ed-0d940e7c40b4"
   },
   "outputs": [
    {
     "data": {
      "text/plain": [
       "RandomForestRegressor(max_depth=4, n_estimators=60)"
      ]
     },
     "execution_count": 71,
     "metadata": {},
     "output_type": "execute_result"
    }
   ],
   "source": [
    "rf3=RandomForestRegressor(n_estimators=60,max_depth=4)\n",
    "\n",
    "rf3.fit(X_train3,y_train3)"
   ]
  },
  {
   "cell_type": "markdown",
   "metadata": {
    "id": "MxbKeXMk7vqL"
   },
   "source": [
    "#### **Check the performance of the model**"
   ]
  },
  {
   "cell_type": "code",
   "execution_count": null,
   "metadata": {
    "colab": {
     "base_uri": "https://localhost:8080/"
    },
    "id": "lq93r0k6F4bO",
    "outputId": "4fc22e9f-c53b-40f7-e8c3-1795b5ee4f30"
   },
   "outputs": [
    {
     "name": "stdout",
     "output_type": "stream",
     "text": [
      "    Data  RSquared      RMSE       MAE\n",
      "0  Train  0.812318  3.914472  2.906506\n",
      "1   Test  0.731668  4.480907  3.536257\n"
     ]
    }
   ],
   "source": [
    "model_pref(rf3, X_train3, X_test3,y_train3,y_test3)  "
   ]
  },
  {
   "cell_type": "markdown",
   "metadata": {
    "id": "6LkhJtVkF4bO"
   },
   "source": [
    "- The model Performance has improved from ~0.73 by the addition of transform and aggregation features."
   ]
  },
  {
   "cell_type": "markdown",
   "metadata": {
    "id": "DSZz_BGqIud5"
   },
   "source": [
    "### **Question 6.7 How do these aggregate transforms impact performance? How do they impact training time?**"
   ]
  },
  {
   "cell_type": "markdown",
   "metadata": {
    "id": "RrjyZH_4IvcD"
   },
   "source": [
    "- The modeling score has not improved much after adding aggregate transforms, and also the training time was also increased by a significant amount, implies that adding more features is always not very effective. "
   ]
  },
  {
   "cell_type": "markdown",
   "metadata": {
    "id": "quPu55bgF4bP"
   },
   "source": [
    "**Based on the above 3 models, we can make predictions using our model2, as it is giving almost same accuracy as model3 and also the training time is not that large as compared to model3**"
   ]
  },
  {
   "cell_type": "code",
   "execution_count": null,
   "metadata": {
    "ExecuteTime": {
     "end_time": "2021-07-09T11:23:07.091360Z",
     "start_time": "2021-07-09T11:23:06.179570Z"
    },
    "colab": {
     "base_uri": "https://localhost:8080/"
    },
    "id": "usvAXKwVF4bP",
    "outputId": "eaa0e1d4-b31f-4a56-eac6-f56c2f0294c8",
    "scrolled": true
   },
   "outputs": [
    {
     "data": {
      "text/plain": [
       "array([1308.7397124 ,  488.20082359, 1160.49860181,  242.23212338,\n",
       "       1373.39335639,  555.98826832,  677.54990232,  494.87715665,\n",
       "       1531.60350733,  472.61957815, 1377.06643686,  248.60247407,\n",
       "       1368.55360702,  408.82242045, 1764.54883025,  235.579433  ,\n",
       "       1101.19117376,  927.41485082, 1260.55499568, 1851.54871979,\n",
       "        633.91162858,  628.70267941, 1349.7023779 ,  887.82489988,\n",
       "        497.78156016,  735.13342463,  378.96592143,  490.47821584,\n",
       "        490.47821584, 1319.48447995,  276.60528394, 1390.54981365,\n",
       "        492.58956274,  649.60235368, 1013.02194269,  938.61271909,\n",
       "       1428.81949786,  648.06903729, 1814.02522703,  634.12093961,\n",
       "        283.11893426,  324.64596728,  679.1955564 ,  366.59342065,\n",
       "        494.87715665,  614.09375852,  320.86929784,  656.00196251,\n",
       "        536.21874801,  490.47821584, 1780.20304288,  510.24017429,\n",
       "        892.16955779, 1528.5611621 ,  185.89457361,  219.38085278,\n",
       "       1434.4106381 , 1109.7405534 , 1172.17341407,  661.7094025 ,\n",
       "        683.24212044,  513.81196612,  978.71806341, 1411.2880062 ,\n",
       "        403.67114299,  638.75250464,  673.27805257, 1322.35407377,\n",
       "        583.1992911 ,  367.77184814,  861.49007314, 1132.75849537,\n",
       "        662.70892228,  904.01846614,  747.77723635,  389.83998643,\n",
       "       1863.49438544,  566.84627887,  678.23518126, 1255.23695328,\n",
       "       1358.91631961, 1007.68007919,  470.39330311, 1164.93381061,\n",
       "        893.16841974,  259.01959275,  419.25350153, 1527.53892523,\n",
       "        487.53248844, 1445.68334867,  261.71456632, 1453.19624406,\n",
       "        854.2686447 ,  527.93010162, 1305.81101824,  186.11755175,\n",
       "        680.0495969 ,  684.02508886, 1785.42816908,  681.58051644,\n",
       "       1436.90298269, 1160.33240832,  647.82733255,  249.01090182,\n",
       "        652.4928615 ,  733.38995548,  495.62849228, 1381.22422834,\n",
       "        530.33736245,  679.86027544,  184.34449813,  472.61957815,\n",
       "       1005.1976075 , 1297.4615865 ,  849.79192655,  995.85998468,\n",
       "        902.4979833 ,  329.85494444,  869.09806687,  429.26364743,\n",
       "        614.51417091,  508.14886706,  585.54901594, 1416.79080756,\n",
       "       1329.73000678,  643.25712694, 1078.51009051,  614.70902145,\n",
       "        599.4766134 ,  708.77297076, 1431.3249585 ,  246.8694413 ,\n",
       "       1545.05013626,  611.34586458,  805.85932902,  496.80996388,\n",
       "       1577.47532184, 1800.90085117,  345.53069631,  728.88857549,\n",
       "        694.45961819,  651.81584124,  664.46744242, 1457.96044397,\n",
       "       1342.50476442,  650.53941617,  445.95628962, 1404.31326114,\n",
       "        364.69263977,  664.46744242, 1559.17773641, 1498.57067885,\n",
       "        326.43719589, 1100.11344066, 1294.69856984,  363.21474225,\n",
       "       1401.43014308, 1386.96783605, 1478.25792487,  657.0135689 ,\n",
       "        393.90127379, 1645.31308281, 1193.73318318, 1024.47498255,\n",
       "       1336.24197076,  288.37550444,  634.44830214, 1742.29133164,\n",
       "        694.85869638,  452.6020966 , 1440.30734483,  592.45278986,\n",
       "        246.8694413 , 1303.9548243 ,  991.78058355, 1791.67246521,\n",
       "        532.65415114,  552.31669923,  913.20054822, 1708.41129772,\n",
       "        236.6738812 ,  330.24639637, 1298.4041561 , 1273.76557077,\n",
       "       1013.6978442 , 1015.47092408,  494.47362586,  685.23513824,\n",
       "        532.65415114,  554.60342792, 1365.79652789,  778.78168057,\n",
       "       1004.21623204, 1001.48786145,  670.59153967, 1613.42964022,\n",
       "        691.57882114, 1331.58954494, 1104.34688217, 1930.67680353,\n",
       "       1346.1759322 ,  532.65415114, 1248.08393875,  841.72228133,\n",
       "        246.8694413 , 1576.53272051,  496.05103619, 1308.90154628,\n",
       "       1206.49130956,  954.23477512, 1199.0672669 , 1197.67809067,\n",
       "       1259.13615862, 1827.99975246,  630.84705917,  588.02588798,\n",
       "       1239.31479564,  743.45713959, 1832.43912637,  997.3531762 ,\n",
       "       1129.05184655,  566.5005009 ,  283.8548498 ,  681.73647235,\n",
       "       1880.00074483, 1351.09275828,  933.58724634,  993.87974252,\n",
       "       1368.81969739, 1190.88012653,  756.45555898, 1282.07468968,\n",
       "        743.0105098 ,  280.19497687, 1627.76175978, 1119.88348317,\n",
       "       1930.67680353,  808.18758389,  437.19338908,  954.23477512,\n",
       "        366.59342065, 1326.43825015,  646.92562087, 1293.75734647,\n",
       "       1548.58588222, 1272.27504232, 1184.83697599, 1252.42021919,\n",
       "       1364.5183907 ,  616.96802801, 1182.28682679,  366.59342065,\n",
       "       1145.37124521, 1015.22814538, 1000.00190535,  681.76481036,\n",
       "        861.6196411 , 1406.95795982,  356.60980857, 1120.37597112,\n",
       "        564.19883041, 1839.26689428,  223.6959967 ,  246.80941261,\n",
       "        478.83678002, 1439.65814096,  509.71477487,  848.81967652,\n",
       "        565.04353582,  592.75727923, 1804.82033203,  597.83372726,\n",
       "       1078.27733784, 2159.74385608, 1300.59045184, 1293.65052318,\n",
       "        231.7737918 ,  651.03706732,  215.60990471, 1156.33420855,\n",
       "       1909.27032436,  913.30228959,  723.08321342, 1542.02381341,\n",
       "        202.81812772,  974.91836633,  701.17463776, 1823.0431757 ,\n",
       "        911.41364677, 1028.77364866,  983.99533364,  786.60886479,\n",
       "        676.54994465, 1408.6763863 , 1486.1204639 ,  475.73042962,\n",
       "        333.82688244,  346.65884917,  778.78168057,  731.41383236,\n",
       "       1293.64891408,  609.61774749,  494.87715665,  266.70166494,\n",
       "       1519.59454835,  555.2801003 ,  681.2593439 , 1071.28564997,\n",
       "        397.77712748,  572.06947152,  486.52293887,  361.154644  ,\n",
       "        739.33896457, 1452.87143858,  666.67014439,  765.20927233,\n",
       "       1846.23791694, 1004.78785558, 1836.41036627,  473.9803644 ,\n",
       "       1070.86365354,  913.45283832, 1261.92173681, 1618.71094789,\n",
       "        784.74001617,  614.48035897, 1607.83465022, 1338.18588234,\n",
       "        526.17213915, 1016.29070751,  342.9298857 ,  783.19898186,\n",
       "        685.82036863, 1724.32723859,  603.49032679, 1224.89037883,\n",
       "       1611.44147931,  185.89457361,  561.48000906,  221.07909946,\n",
       "        639.68217436, 1111.08313667,  494.87715665, 1095.46757582,\n",
       "       1042.43977919, 1252.75317941,  633.36375524,  635.11713263,\n",
       "       1019.38548489, 1094.59598473,  400.85481019, 1728.12695647,\n",
       "        739.04239887,  834.88261458,  187.74016582,  533.07296837,\n",
       "        559.40386184,  467.39941663])"
      ]
     },
     "execution_count": 73,
     "metadata": {},
     "output_type": "execute_result"
    }
   ],
   "source": [
    "y_pred = rf2.predict(X_test2)\n",
    "y_pred = y_pred**2 # Undo the sqrt we took earlier\n",
    "y_pred[5:]"
   ]
  },
  {
   "cell_type": "markdown",
   "metadata": {
    "id": "aXb6XooAF4bP"
   },
   "source": [
    "### **Question 7: What are some important features based on `model2` and how can they affect the duration of the rides? (3 Marks)**"
   ]
  },
  {
   "cell_type": "code",
   "execution_count": null,
   "metadata": {
    "ExecuteTime": {
     "end_time": "2021-07-09T11:23:15.953274Z",
     "start_time": "2021-07-09T11:23:15.813531Z"
    },
    "colab": {
     "base_uri": "https://localhost:8080/"
    },
    "id": "sw-NyM6GF4bP",
    "outputId": "6674e81d-bf4c-4ffb-f07a-00ef37f39636",
    "scrolled": true
   },
   "outputs": [
    {
     "name": "stdout",
     "output_type": "stream",
     "text": [
      "1: Feature: trip_distance, 0.941\n",
      "2: Feature: dropoff_neighborhoods.longitude, 0.018\n",
      "3: Feature: pickup_neighborhoods.longitude, 0.015\n",
      "4: Feature: dropoff_neighborhoods.latitude, 0.013\n",
      "5: Feature: pickup_neighborhoods.latitude, 0.005\n",
      "6: Feature: MINUTE(pickup_datetime), 0.001\n",
      "7: Feature: dropoff_neighborhood = P, 0.001\n",
      "8: Feature: pickup_neighborhood = AD, 0.001\n",
      "9: Feature: dropoff_neighborhood = AT, 0.001\n",
      "10: Feature: pickup_neighborhood = P, 0.001\n"
     ]
    }
   ],
   "source": [
    "feature_importances(rf2, feature_matrix2.drop(['trip_duration'],axis=1).columns, n=10)"
   ]
  },
  {
   "cell_type": "markdown",
   "metadata": {
    "id": "vyoxbL0QF4bP"
   },
   "source": [
    "- Trip_Distance is the most important feature, which implies that the longer the trip is the longer duration of the trip is.\n",
    "- Features like dropoff_neighborhoods.longitude, pickup_neighborhoods.longitude, dropoff_neighborhoods.latitude,pickup_neighborhoods.latitude signifies that trip duration is impacted by pickup and dropoff locations."
   ]
  }
 ],
 "metadata": {
  "colab": {
   "collapsed_sections": [],
   "name": "Practice_Case_Study_NYC_BUS_Case_Study.ipynb",
   "provenance": []
  },
  "kernelspec": {
   "display_name": "Python 3 (ipykernel)",
   "language": "python",
   "name": "python3"
  },
  "language_info": {
   "codemirror_mode": {
    "name": "ipython",
    "version": 3
   },
   "file_extension": ".py",
   "mimetype": "text/x-python",
   "name": "python",
   "nbconvert_exporter": "python",
   "pygments_lexer": "ipython3",
   "version": "3.8.12"
  },
  "toc": {
   "base_numbering": 1,
   "nav_menu": {},
   "number_sections": true,
   "sideBar": true,
   "skip_h1_title": false,
   "title_cell": "Table of Contents",
   "title_sidebar": "Contents",
   "toc_cell": false,
   "toc_position": {},
   "toc_section_display": true,
   "toc_window_display": false
  },
  "varInspector": {
   "cols": {
    "lenName": 16,
    "lenType": 16,
    "lenVar": 40
   },
   "kernels_config": {
    "python": {
     "delete_cmd_postfix": "",
     "delete_cmd_prefix": "del ",
     "library": "var_list.py",
     "varRefreshCmd": "print(var_dic_list())"
    },
    "r": {
     "delete_cmd_postfix": ") ",
     "delete_cmd_prefix": "rm(",
     "library": "var_list.r",
     "varRefreshCmd": "cat(var_dic_list()) "
    }
   },
   "types_to_exclude": [
    "module",
    "function",
    "builtin_function_or_method",
    "instance",
    "_Feature"
   ],
   "window_display": false
  }
 },
 "nbformat": 4,
 "nbformat_minor": 0
}
